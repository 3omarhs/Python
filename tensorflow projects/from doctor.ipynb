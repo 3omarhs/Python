{
  "nbformat": 4,
  "nbformat_minor": 0,
  "metadata": {
    "colab": {
      "name": "Untitled1.ipynb",
      "provenance": []
    },
    "kernelspec": {
      "name": "python3",
      "display_name": "Python 3"
    },
    "language_info": {
      "name": "python"
    }
  },
  "cells": [
    {
      "cell_type": "code",
      "execution_count": 1,
      "metadata": {
        "id": "g-tL_cSeEofd"
      },
      "outputs": [],
      "source": [
        "import tensorflow as tf\n",
        "import numpy as np\n",
        "import matplotlib.pyplot as plt"
      ]
    },
    {
      "cell_type": "code",
      "source": [
        "x = np.arange(-7.3,20,3)\n",
        "len(x)"
      ],
      "metadata": {
        "colab": {
          "base_uri": "https://localhost:8080/"
        },
        "id": "90qbEemIEpYl",
        "outputId": "a7bab8c1-02c9-4c6c-9750-53a0733fc71f"
      },
      "execution_count": null,
      "outputs": [
        {
          "output_type": "execute_result",
          "data": {
            "text/plain": [
              "10"
            ]
          },
          "metadata": {},
          "execution_count": 2
        }
      ]
    },
    {
      "cell_type": "code",
      "source": [
        "y = x + 10"
      ],
      "metadata": {
        "id": "r71NDUd-Hel0"
      },
      "execution_count": null,
      "outputs": []
    },
    {
      "cell_type": "code",
      "source": [
        "x,y"
      ],
      "metadata": {
        "colab": {
          "base_uri": "https://localhost:8080/"
        },
        "id": "7GnNkuuNHpsQ",
        "outputId": "f1974123-d14d-4309-b761-e1b74d0a2819"
      },
      "execution_count": null,
      "outputs": [
        {
          "output_type": "execute_result",
          "data": {
            "text/plain": [
              "(array([-7.3, -4.3, -1.3,  1.7,  4.7,  7.7, 10.7, 13.7, 16.7, 19.7]),\n",
              " array([ 2.7,  5.7,  8.7, 11.7, 14.7, 17.7, 20.7, 23.7, 26.7, 29.7]))"
            ]
          },
          "metadata": {},
          "execution_count": 4
        }
      ]
    },
    {
      "cell_type": "code",
      "source": [
        "x = tf.constant(x)"
      ],
      "metadata": {
        "id": "of6isr-fHrQA"
      },
      "execution_count": null,
      "outputs": []
    },
    {
      "cell_type": "code",
      "source": [
        "y = tf.constant(y)"
      ],
      "metadata": {
        "id": "WZ_QkerFH5MA"
      },
      "execution_count": null,
      "outputs": []
    },
    {
      "cell_type": "code",
      "source": [
        "x,y"
      ],
      "metadata": {
        "colab": {
          "base_uri": "https://localhost:8080/"
        },
        "id": "6RgF3p-PH8nI",
        "outputId": "6c3b3acf-cc01-4d19-aad4-aaff7a52f942"
      },
      "execution_count": null,
      "outputs": [
        {
          "output_type": "execute_result",
          "data": {
            "text/plain": [
              "(<tf.Tensor: shape=(10,), dtype=float64, numpy=array([-7.3, -4.3, -1.3,  1.7,  4.7,  7.7, 10.7, 13.7, 16.7, 19.7])>,\n",
              " <tf.Tensor: shape=(10,), dtype=float64, numpy=array([ 2.7,  5.7,  8.7, 11.7, 14.7, 17.7, 20.7, 23.7, 26.7, 29.7])>)"
            ]
          },
          "metadata": {},
          "execution_count": 8
        }
      ]
    },
    {
      "cell_type": "code",
      "source": [
        "tf.random.set_seed(42)"
      ],
      "metadata": {
        "id": "EhKiQtVFH_16"
      },
      "execution_count": null,
      "outputs": []
    },
    {
      "cell_type": "code",
      "source": [
        "model  = tf.keras.Sequential()\n",
        "model.add(tf.keras.layers.Dense(1, name='input_layer', input_shape=[1]))\n",
        "model.compile(loss = tf.keras.losses.mae,\n",
        "              optimizer= tf.keras.optimizers.SGD(),\n",
        "              metrics = [\"mae\"]\n",
        "              \n",
        "              )\n",
        "model.fit(x,y,epochs=100)"
      ],
      "metadata": {
        "colab": {
          "base_uri": "https://localhost:8080/"
        },
        "id": "x7sHyqsyJElj",
        "outputId": "a33b7187-fdff-4889-e0f1-787df49171af"
      },
      "execution_count": null,
      "outputs": [
        {
          "output_type": "stream",
          "name": "stdout",
          "text": [
            "Epoch 1/100\n",
            "1/1 [==============================] - 0s 310ms/step - loss: 12.6656 - mae: 12.6656\n",
            "Epoch 2/100\n",
            "1/1 [==============================] - 0s 7ms/step - loss: 12.2712 - mae: 12.2712\n",
            "Epoch 3/100\n",
            "1/1 [==============================] - 0s 9ms/step - loss: 11.8768 - mae: 11.8768\n",
            "Epoch 4/100\n",
            "1/1 [==============================] - 0s 8ms/step - loss: 11.4824 - mae: 11.4824\n",
            "Epoch 5/100\n",
            "1/1 [==============================] - 0s 8ms/step - loss: 11.0880 - mae: 11.0880\n",
            "Epoch 6/100\n",
            "1/1 [==============================] - 0s 8ms/step - loss: 10.6936 - mae: 10.6936\n",
            "Epoch 7/100\n",
            "1/1 [==============================] - 0s 8ms/step - loss: 10.2992 - mae: 10.2992\n",
            "Epoch 8/100\n",
            "1/1 [==============================] - 0s 10ms/step - loss: 9.9048 - mae: 9.9048\n",
            "Epoch 9/100\n",
            "1/1 [==============================] - 0s 9ms/step - loss: 9.5104 - mae: 9.5104\n",
            "Epoch 10/100\n",
            "1/1 [==============================] - 0s 13ms/step - loss: 9.1160 - mae: 9.1160\n",
            "Epoch 11/100\n",
            "1/1 [==============================] - 0s 8ms/step - loss: 8.7216 - mae: 8.7216\n",
            "Epoch 12/100\n",
            "1/1 [==============================] - 0s 10ms/step - loss: 8.3272 - mae: 8.3272\n",
            "Epoch 13/100\n",
            "1/1 [==============================] - 0s 12ms/step - loss: 7.9328 - mae: 7.9328\n",
            "Epoch 14/100\n",
            "1/1 [==============================] - 0s 9ms/step - loss: 7.5384 - mae: 7.5384\n",
            "Epoch 15/100\n",
            "1/1 [==============================] - 0s 18ms/step - loss: 7.1440 - mae: 7.1440\n",
            "Epoch 16/100\n",
            "1/1 [==============================] - 0s 11ms/step - loss: 6.7499 - mae: 6.7499\n",
            "Epoch 17/100\n",
            "1/1 [==============================] - 0s 12ms/step - loss: 6.6924 - mae: 6.6924\n",
            "Epoch 18/100\n",
            "1/1 [==============================] - 0s 15ms/step - loss: 6.6349 - mae: 6.6349\n",
            "Epoch 19/100\n",
            "1/1 [==============================] - 0s 9ms/step - loss: 6.5774 - mae: 6.5774\n",
            "Epoch 20/100\n",
            "1/1 [==============================] - 0s 8ms/step - loss: 6.5285 - mae: 6.5285\n",
            "Epoch 21/100\n",
            "1/1 [==============================] - 0s 6ms/step - loss: 6.5396 - mae: 6.5396\n",
            "Epoch 22/100\n",
            "1/1 [==============================] - 0s 7ms/step - loss: 6.5328 - mae: 6.5328\n",
            "Epoch 23/100\n",
            "1/1 [==============================] - 0s 6ms/step - loss: 6.5176 - mae: 6.5176\n",
            "Epoch 24/100\n",
            "1/1 [==============================] - 0s 6ms/step - loss: 6.5213 - mae: 6.5213\n",
            "Epoch 25/100\n",
            "1/1 [==============================] - 0s 16ms/step - loss: 6.5219 - mae: 6.5219\n",
            "Epoch 26/100\n",
            "1/1 [==============================] - 0s 9ms/step - loss: 6.5067 - mae: 6.5067\n",
            "Epoch 27/100\n",
            "1/1 [==============================] - 0s 7ms/step - loss: 6.5030 - mae: 6.5030\n",
            "Epoch 28/100\n",
            "1/1 [==============================] - 0s 12ms/step - loss: 6.5110 - mae: 6.5110\n",
            "Epoch 29/100\n",
            "1/1 [==============================] - 0s 8ms/step - loss: 6.4957 - mae: 6.4957\n",
            "Epoch 30/100\n",
            "1/1 [==============================] - 0s 5ms/step - loss: 6.4848 - mae: 6.4848\n",
            "Epoch 31/100\n",
            "1/1 [==============================] - 0s 7ms/step - loss: 6.5001 - mae: 6.5001\n",
            "Epoch 32/100\n",
            "1/1 [==============================] - 0s 8ms/step - loss: 6.4848 - mae: 6.4848\n",
            "Epoch 33/100\n",
            "1/1 [==============================] - 0s 8ms/step - loss: 6.4696 - mae: 6.4696\n",
            "Epoch 34/100\n",
            "1/1 [==============================] - 0s 19ms/step - loss: 6.4861 - mae: 6.4861\n",
            "Epoch 35/100\n",
            "1/1 [==============================] - 0s 11ms/step - loss: 6.4739 - mae: 6.4739\n",
            "Epoch 36/100\n",
            "1/1 [==============================] - 0s 5ms/step - loss: 6.4586 - mae: 6.4586\n",
            "Epoch 37/100\n",
            "1/1 [==============================] - 0s 10ms/step - loss: 6.4679 - mae: 6.4679\n",
            "Epoch 38/100\n",
            "1/1 [==============================] - 0s 8ms/step - loss: 6.4630 - mae: 6.4630\n",
            "Epoch 39/100\n",
            "1/1 [==============================] - 0s 9ms/step - loss: 6.4477 - mae: 6.4477\n",
            "Epoch 40/100\n",
            "1/1 [==============================] - 0s 26ms/step - loss: 6.4496 - mae: 6.4496\n",
            "Epoch 41/100\n",
            "1/1 [==============================] - 0s 18ms/step - loss: 6.4521 - mae: 6.4521\n",
            "Epoch 42/100\n",
            "1/1 [==============================] - 0s 6ms/step - loss: 6.4368 - mae: 6.4368\n",
            "Epoch 43/100\n",
            "1/1 [==============================] - 0s 5ms/step - loss: 6.4314 - mae: 6.4314\n",
            "Epoch 44/100\n",
            "1/1 [==============================] - 0s 47ms/step - loss: 6.4411 - mae: 6.4411\n",
            "Epoch 45/100\n",
            "1/1 [==============================] - 0s 28ms/step - loss: 6.4259 - mae: 6.4259\n",
            "Epoch 46/100\n",
            "1/1 [==============================] - 0s 20ms/step - loss: 6.4131 - mae: 6.4131\n",
            "Epoch 47/100\n",
            "1/1 [==============================] - 0s 21ms/step - loss: 6.4302 - mae: 6.4302\n",
            "Epoch 48/100\n",
            "1/1 [==============================] - 0s 12ms/step - loss: 6.4150 - mae: 6.4150\n",
            "Epoch 49/100\n",
            "1/1 [==============================] - 0s 7ms/step - loss: 6.3997 - mae: 6.3997\n",
            "Epoch 50/100\n",
            "1/1 [==============================] - 0s 7ms/step - loss: 6.4144 - mae: 6.4144\n",
            "Epoch 51/100\n",
            "1/1 [==============================] - 0s 6ms/step - loss: 6.4040 - mae: 6.4040\n",
            "Epoch 52/100\n",
            "1/1 [==============================] - 0s 9ms/step - loss: 6.3888 - mae: 6.3888\n",
            "Epoch 53/100\n",
            "1/1 [==============================] - 0s 8ms/step - loss: 6.3962 - mae: 6.3962\n",
            "Epoch 54/100\n",
            "1/1 [==============================] - 0s 5ms/step - loss: 6.3931 - mae: 6.3931\n",
            "Epoch 55/100\n",
            "1/1 [==============================] - 0s 6ms/step - loss: 6.3779 - mae: 6.3779\n",
            "Epoch 56/100\n",
            "1/1 [==============================] - 0s 27ms/step - loss: 6.3779 - mae: 6.3779\n",
            "Epoch 57/100\n",
            "1/1 [==============================] - 0s 16ms/step - loss: 6.3822 - mae: 6.3822\n",
            "Epoch 58/100\n",
            "1/1 [==============================] - 0s 20ms/step - loss: 6.3669 - mae: 6.3669\n",
            "Epoch 59/100\n",
            "1/1 [==============================] - 0s 17ms/step - loss: 6.3597 - mae: 6.3597\n",
            "Epoch 60/100\n",
            "1/1 [==============================] - 0s 33ms/step - loss: 6.3713 - mae: 6.3713\n",
            "Epoch 61/100\n",
            "1/1 [==============================] - 0s 10ms/step - loss: 6.3560 - mae: 6.3560\n",
            "Epoch 62/100\n",
            "1/1 [==============================] - 0s 25ms/step - loss: 6.3414 - mae: 6.3414\n",
            "Epoch 63/100\n",
            "1/1 [==============================] - 0s 17ms/step - loss: 6.3604 - mae: 6.3604\n",
            "Epoch 64/100\n",
            "1/1 [==============================] - 0s 16ms/step - loss: 6.3451 - mae: 6.3451\n",
            "Epoch 65/100\n",
            "1/1 [==============================] - 0s 13ms/step - loss: 6.3298 - mae: 6.3298\n",
            "Epoch 66/100\n",
            "1/1 [==============================] - 0s 15ms/step - loss: 6.3428 - mae: 6.3428\n",
            "Epoch 67/100\n",
            "1/1 [==============================] - 0s 11ms/step - loss: 6.3342 - mae: 6.3342\n",
            "Epoch 68/100\n",
            "1/1 [==============================] - 0s 15ms/step - loss: 6.3189 - mae: 6.3189\n",
            "Epoch 69/100\n",
            "1/1 [==============================] - 0s 15ms/step - loss: 6.3245 - mae: 6.3245\n",
            "Epoch 70/100\n",
            "1/1 [==============================] - 0s 15ms/step - loss: 6.3233 - mae: 6.3233\n",
            "Epoch 71/100\n",
            "1/1 [==============================] - 0s 21ms/step - loss: 6.3080 - mae: 6.3080\n",
            "Epoch 72/100\n",
            "1/1 [==============================] - 0s 16ms/step - loss: 6.3062 - mae: 6.3062\n",
            "Epoch 73/100\n",
            "1/1 [==============================] - 0s 10ms/step - loss: 6.3123 - mae: 6.3123\n",
            "Epoch 74/100\n",
            "1/1 [==============================] - 0s 9ms/step - loss: 6.2971 - mae: 6.2971\n",
            "Epoch 75/100\n",
            "1/1 [==============================] - 0s 13ms/step - loss: 6.2880 - mae: 6.2880\n",
            "Epoch 76/100\n",
            "1/1 [==============================] - 0s 24ms/step - loss: 6.3014 - mae: 6.3014\n",
            "Epoch 77/100\n",
            "1/1 [==============================] - 0s 14ms/step - loss: 6.2861 - mae: 6.2861\n",
            "Epoch 78/100\n",
            "1/1 [==============================] - 0s 13ms/step - loss: 6.2709 - mae: 6.2709\n",
            "Epoch 79/100\n",
            "1/1 [==============================] - 0s 6ms/step - loss: 6.2893 - mae: 6.2893\n",
            "Epoch 80/100\n",
            "1/1 [==============================] - 0s 24ms/step - loss: 6.2752 - mae: 6.2752\n",
            "Epoch 81/100\n",
            "1/1 [==============================] - 0s 17ms/step - loss: 6.2600 - mae: 6.2600\n",
            "Epoch 82/100\n",
            "1/1 [==============================] - 0s 31ms/step - loss: 6.2711 - mae: 6.2711\n",
            "Epoch 83/100\n",
            "1/1 [==============================] - 0s 11ms/step - loss: 6.2643 - mae: 6.2643\n",
            "Epoch 84/100\n",
            "1/1 [==============================] - 0s 12ms/step - loss: 6.2490 - mae: 6.2490\n",
            "Epoch 85/100\n",
            "1/1 [==============================] - 0s 11ms/step - loss: 6.2528 - mae: 6.2528\n",
            "Epoch 86/100\n",
            "1/1 [==============================] - 0s 10ms/step - loss: 6.2534 - mae: 6.2534\n",
            "Epoch 87/100\n",
            "1/1 [==============================] - 0s 10ms/step - loss: 6.2381 - mae: 6.2381\n",
            "Epoch 88/100\n",
            "1/1 [==============================] - 0s 11ms/step - loss: 6.2345 - mae: 6.2345\n",
            "Epoch 89/100\n",
            "1/1 [==============================] - 0s 10ms/step - loss: 6.2425 - mae: 6.2425\n",
            "Epoch 90/100\n",
            "1/1 [==============================] - 0s 11ms/step - loss: 6.2272 - mae: 6.2272\n",
            "Epoch 91/100\n",
            "1/1 [==============================] - 0s 11ms/step - loss: 6.2163 - mae: 6.2163\n",
            "Epoch 92/100\n",
            "1/1 [==============================] - 0s 13ms/step - loss: 6.2315 - mae: 6.2315\n",
            "Epoch 93/100\n",
            "1/1 [==============================] - 0s 12ms/step - loss: 6.2163 - mae: 6.2163\n",
            "Epoch 94/100\n",
            "1/1 [==============================] - 0s 11ms/step - loss: 6.2010 - mae: 6.2010\n",
            "Epoch 95/100\n",
            "1/1 [==============================] - 0s 14ms/step - loss: 6.2176 - mae: 6.2176\n",
            "Epoch 96/100\n",
            "1/1 [==============================] - 0s 11ms/step - loss: 6.2054 - mae: 6.2054\n",
            "Epoch 97/100\n",
            "1/1 [==============================] - 0s 13ms/step - loss: 6.1901 - mae: 6.1901\n",
            "Epoch 98/100\n",
            "1/1 [==============================] - 0s 15ms/step - loss: 6.1994 - mae: 6.1994\n",
            "Epoch 99/100\n",
            "1/1 [==============================] - 0s 14ms/step - loss: 6.1944 - mae: 6.1944\n",
            "Epoch 100/100\n",
            "1/1 [==============================] - 0s 18ms/step - loss: 6.1792 - mae: 6.1792\n"
          ]
        },
        {
          "output_type": "execute_result",
          "data": {
            "text/plain": [
              "<keras.callbacks.History at 0x7fcdafc32090>"
            ]
          },
          "metadata": {},
          "execution_count": 7
        }
      ]
    },
    {
      "cell_type": "code",
      "source": [
        "model  = tf.keras.Sequential()\n",
        "model.add(tf.keras.layers.Dense(50, name='input_layer', input_shape=[1]))\n",
        "model.add(tf.keras.layers.Dense(1, name='output_layer'))\n",
        "model.compile(loss = tf.keras.losses.mae,\n",
        "              optimizer= tf.keras.optimizers.Adam(lr=0.01),\n",
        "              metrics = [\"mae\"]\n",
        "              \n",
        "              )\n",
        "model.fit(x,y,epochs=100)"
      ],
      "metadata": {
        "colab": {
          "base_uri": "https://localhost:8080/"
        },
        "id": "J5ZcN-NmXVTi",
        "outputId": "351d782d-f5ec-4656-ca7b-6d4f621ba1d4"
      },
      "execution_count": null,
      "outputs": [
        {
          "output_type": "stream",
          "name": "stdout",
          "text": [
            "Epoch 1/100\n"
          ]
        },
        {
          "output_type": "stream",
          "name": "stderr",
          "text": [
            "/usr/local/lib/python3.7/dist-packages/keras/optimizer_v2/adam.py:105: UserWarning: The `lr` argument is deprecated, use `learning_rate` instead.\n",
            "  super(Adam, self).__init__(name, **kwargs)\n"
          ]
        },
        {
          "output_type": "stream",
          "name": "stdout",
          "text": [
            "1/1 [==============================] - 1s 670ms/step - loss: 17.4862 - mae: 17.4862\n",
            "Epoch 2/100\n",
            "1/1 [==============================] - 0s 16ms/step - loss: 16.3351 - mae: 16.3351\n",
            "Epoch 3/100\n",
            "1/1 [==============================] - 0s 8ms/step - loss: 15.1930 - mae: 15.1930\n",
            "Epoch 4/100\n",
            "1/1 [==============================] - 0s 8ms/step - loss: 14.0571 - mae: 14.0571\n",
            "Epoch 5/100\n",
            "1/1 [==============================] - 0s 17ms/step - loss: 12.9244 - mae: 12.9244\n",
            "Epoch 6/100\n",
            "1/1 [==============================] - 0s 14ms/step - loss: 11.7913 - mae: 11.7913\n",
            "Epoch 7/100\n",
            "1/1 [==============================] - 0s 22ms/step - loss: 10.6539 - mae: 10.6539\n",
            "Epoch 8/100\n",
            "1/1 [==============================] - 0s 11ms/step - loss: 9.5085 - mae: 9.5085\n",
            "Epoch 9/100\n",
            "1/1 [==============================] - 0s 11ms/step - loss: 8.3506 - mae: 8.3506\n",
            "Epoch 10/100\n",
            "1/1 [==============================] - 0s 7ms/step - loss: 7.1763 - mae: 7.1763\n",
            "Epoch 11/100\n",
            "1/1 [==============================] - 0s 18ms/step - loss: 6.0902 - mae: 6.0902\n",
            "Epoch 12/100\n",
            "1/1 [==============================] - 0s 12ms/step - loss: 6.0362 - mae: 6.0362\n",
            "Epoch 13/100\n",
            "1/1 [==============================] - 0s 39ms/step - loss: 6.4938 - mae: 6.4938\n",
            "Epoch 14/100\n",
            "1/1 [==============================] - 0s 15ms/step - loss: 6.9769 - mae: 6.9769\n",
            "Epoch 15/100\n",
            "1/1 [==============================] - 0s 14ms/step - loss: 7.2814 - mae: 7.2814\n",
            "Epoch 16/100\n",
            "1/1 [==============================] - 0s 26ms/step - loss: 7.3782 - mae: 7.3782\n",
            "Epoch 17/100\n",
            "1/1 [==============================] - 0s 17ms/step - loss: 7.3061 - mae: 7.3061\n",
            "Epoch 18/100\n",
            "1/1 [==============================] - 0s 14ms/step - loss: 7.0974 - mae: 7.0974\n",
            "Epoch 19/100\n",
            "1/1 [==============================] - 0s 15ms/step - loss: 6.7788 - mae: 6.7788\n",
            "Epoch 20/100\n",
            "1/1 [==============================] - 0s 21ms/step - loss: 6.3724 - mae: 6.3724\n",
            "Epoch 21/100\n",
            "1/1 [==============================] - 0s 8ms/step - loss: 6.0201 - mae: 6.0201\n",
            "Epoch 22/100\n",
            "1/1 [==============================] - 0s 9ms/step - loss: 5.6931 - mae: 5.6931\n",
            "Epoch 23/100\n",
            "1/1 [==============================] - 0s 18ms/step - loss: 5.4985 - mae: 5.4985\n",
            "Epoch 24/100\n",
            "1/1 [==============================] - 0s 9ms/step - loss: 5.4645 - mae: 5.4645\n",
            "Epoch 25/100\n",
            "1/1 [==============================] - 0s 8ms/step - loss: 5.5969 - mae: 5.5969\n",
            "Epoch 26/100\n",
            "1/1 [==============================] - 0s 7ms/step - loss: 5.7449 - mae: 5.7449\n",
            "Epoch 27/100\n",
            "1/1 [==============================] - 0s 16ms/step - loss: 5.7318 - mae: 5.7318\n",
            "Epoch 28/100\n",
            "1/1 [==============================] - 0s 8ms/step - loss: 5.5806 - mae: 5.5806\n",
            "Epoch 29/100\n",
            "1/1 [==============================] - 0s 8ms/step - loss: 5.3206 - mae: 5.3206\n",
            "Epoch 30/100\n",
            "1/1 [==============================] - 0s 24ms/step - loss: 5.1619 - mae: 5.1619\n",
            "Epoch 31/100\n",
            "1/1 [==============================] - 0s 10ms/step - loss: 5.0369 - mae: 5.0369\n",
            "Epoch 32/100\n",
            "1/1 [==============================] - 0s 10ms/step - loss: 5.0030 - mae: 5.0030\n",
            "Epoch 33/100\n",
            "1/1 [==============================] - 0s 19ms/step - loss: 4.9635 - mae: 4.9635\n",
            "Epoch 34/100\n",
            "1/1 [==============================] - 0s 17ms/step - loss: 4.9664 - mae: 4.9664\n",
            "Epoch 35/100\n",
            "1/1 [==============================] - 0s 13ms/step - loss: 4.9514 - mae: 4.9514\n",
            "Epoch 36/100\n",
            "1/1 [==============================] - 0s 12ms/step - loss: 4.8914 - mae: 4.8914\n",
            "Epoch 37/100\n",
            "1/1 [==============================] - 0s 31ms/step - loss: 4.7904 - mae: 4.7904\n",
            "Epoch 38/100\n",
            "1/1 [==============================] - 0s 20ms/step - loss: 4.6525 - mae: 4.6525\n",
            "Epoch 39/100\n",
            "1/1 [==============================] - 0s 42ms/step - loss: 4.5539 - mae: 4.5539\n",
            "Epoch 40/100\n",
            "1/1 [==============================] - 0s 25ms/step - loss: 4.4640 - mae: 4.4640\n",
            "Epoch 41/100\n",
            "1/1 [==============================] - 0s 21ms/step - loss: 4.3726 - mae: 4.3726\n",
            "Epoch 42/100\n",
            "1/1 [==============================] - 0s 17ms/step - loss: 4.3707 - mae: 4.3707\n",
            "Epoch 43/100\n",
            "1/1 [==============================] - 0s 23ms/step - loss: 4.3393 - mae: 4.3393\n",
            "Epoch 44/100\n",
            "1/1 [==============================] - 0s 18ms/step - loss: 4.2746 - mae: 4.2746\n",
            "Epoch 45/100\n",
            "1/1 [==============================] - 0s 13ms/step - loss: 4.1789 - mae: 4.1789\n",
            "Epoch 46/100\n",
            "1/1 [==============================] - 0s 13ms/step - loss: 4.0538 - mae: 4.0538\n",
            "Epoch 47/100\n",
            "1/1 [==============================] - 0s 12ms/step - loss: 3.9005 - mae: 3.9005\n",
            "Epoch 48/100\n",
            "1/1 [==============================] - 0s 7ms/step - loss: 3.8058 - mae: 3.8058\n",
            "Epoch 49/100\n",
            "1/1 [==============================] - 0s 7ms/step - loss: 3.7274 - mae: 3.7274\n",
            "Epoch 50/100\n",
            "1/1 [==============================] - 0s 15ms/step - loss: 3.6597 - mae: 3.6597\n",
            "Epoch 51/100\n",
            "1/1 [==============================] - 0s 15ms/step - loss: 3.5875 - mae: 3.5875\n",
            "Epoch 52/100\n",
            "1/1 [==============================] - 0s 7ms/step - loss: 3.4622 - mae: 3.4622\n",
            "Epoch 53/100\n",
            "1/1 [==============================] - 0s 8ms/step - loss: 3.3170 - mae: 3.3170\n",
            "Epoch 54/100\n",
            "1/1 [==============================] - 0s 8ms/step - loss: 3.1923 - mae: 3.1923\n",
            "Epoch 55/100\n",
            "1/1 [==============================] - 0s 8ms/step - loss: 3.0627 - mae: 3.0627\n",
            "Epoch 56/100\n",
            "1/1 [==============================] - 0s 9ms/step - loss: 2.9887 - mae: 2.9887\n",
            "Epoch 57/100\n",
            "1/1 [==============================] - 0s 9ms/step - loss: 2.8913 - mae: 2.8913\n",
            "Epoch 58/100\n",
            "1/1 [==============================] - 0s 9ms/step - loss: 2.7507 - mae: 2.7507\n",
            "Epoch 59/100\n",
            "1/1 [==============================] - 0s 9ms/step - loss: 2.5687 - mae: 2.5687\n",
            "Epoch 60/100\n",
            "1/1 [==============================] - 0s 17ms/step - loss: 2.4241 - mae: 2.4241\n",
            "Epoch 61/100\n",
            "1/1 [==============================] - 0s 11ms/step - loss: 2.3030 - mae: 2.3030\n",
            "Epoch 62/100\n",
            "1/1 [==============================] - 0s 12ms/step - loss: 2.1728 - mae: 2.1728\n",
            "Epoch 63/100\n",
            "1/1 [==============================] - 0s 8ms/step - loss: 1.9779 - mae: 1.9779\n",
            "Epoch 64/100\n",
            "1/1 [==============================] - 0s 9ms/step - loss: 1.8029 - mae: 1.8029\n",
            "Epoch 65/100\n",
            "1/1 [==============================] - 0s 9ms/step - loss: 1.6328 - mae: 1.6328\n",
            "Epoch 66/100\n",
            "1/1 [==============================] - 0s 14ms/step - loss: 1.4645 - mae: 1.4645\n",
            "Epoch 67/100\n",
            "1/1 [==============================] - 0s 15ms/step - loss: 1.2650 - mae: 1.2650\n",
            "Epoch 68/100\n",
            "1/1 [==============================] - 0s 9ms/step - loss: 1.0784 - mae: 1.0784\n",
            "Epoch 69/100\n",
            "1/1 [==============================] - 0s 9ms/step - loss: 0.8825 - mae: 0.8825\n",
            "Epoch 70/100\n",
            "1/1 [==============================] - 0s 9ms/step - loss: 0.6710 - mae: 0.6710\n",
            "Epoch 71/100\n",
            "1/1 [==============================] - 0s 8ms/step - loss: 0.4584 - mae: 0.4584\n",
            "Epoch 72/100\n",
            "1/1 [==============================] - 0s 9ms/step - loss: 0.2617 - mae: 0.2617\n",
            "Epoch 73/100\n",
            "1/1 [==============================] - 0s 8ms/step - loss: 0.1055 - mae: 0.1055\n",
            "Epoch 74/100\n",
            "1/1 [==============================] - 0s 33ms/step - loss: 0.4052 - mae: 0.4052\n",
            "Epoch 75/100\n",
            "1/1 [==============================] - 0s 10ms/step - loss: 0.4833 - mae: 0.4833\n",
            "Epoch 76/100\n",
            "1/1 [==============================] - 0s 29ms/step - loss: 0.5954 - mae: 0.5954\n",
            "Epoch 77/100\n",
            "1/1 [==============================] - 0s 29ms/step - loss: 0.7134 - mae: 0.7134\n",
            "Epoch 78/100\n",
            "1/1 [==============================] - 0s 22ms/step - loss: 0.6070 - mae: 0.6070\n",
            "Epoch 79/100\n",
            "1/1 [==============================] - 0s 19ms/step - loss: 0.7837 - mae: 0.7837\n",
            "Epoch 80/100\n",
            "1/1 [==============================] - 0s 20ms/step - loss: 0.7547 - mae: 0.7547\n",
            "Epoch 81/100\n",
            "1/1 [==============================] - 0s 18ms/step - loss: 0.5264 - mae: 0.5264\n",
            "Epoch 82/100\n",
            "1/1 [==============================] - 0s 30ms/step - loss: 0.5344 - mae: 0.5344\n",
            "Epoch 83/100\n",
            "1/1 [==============================] - 0s 12ms/step - loss: 0.3690 - mae: 0.3690\n",
            "Epoch 84/100\n",
            "1/1 [==============================] - 0s 20ms/step - loss: 0.4271 - mae: 0.4271\n",
            "Epoch 85/100\n",
            "1/1 [==============================] - 0s 14ms/step - loss: 0.2675 - mae: 0.2675\n",
            "Epoch 86/100\n",
            "1/1 [==============================] - 0s 13ms/step - loss: 0.2074 - mae: 0.2074\n",
            "Epoch 87/100\n",
            "1/1 [==============================] - 0s 8ms/step - loss: 0.2080 - mae: 0.2080\n",
            "Epoch 88/100\n",
            "1/1 [==============================] - 0s 8ms/step - loss: 0.3479 - mae: 0.3479\n",
            "Epoch 89/100\n",
            "1/1 [==============================] - 0s 8ms/step - loss: 0.3920 - mae: 0.3920\n",
            "Epoch 90/100\n",
            "1/1 [==============================] - 0s 9ms/step - loss: 0.3181 - mae: 0.3181\n",
            "Epoch 91/100\n",
            "1/1 [==============================] - 0s 11ms/step - loss: 0.3149 - mae: 0.3149\n",
            "Epoch 92/100\n",
            "1/1 [==============================] - 0s 9ms/step - loss: 0.4180 - mae: 0.4180\n",
            "Epoch 93/100\n",
            "1/1 [==============================] - 0s 10ms/step - loss: 0.3684 - mae: 0.3684\n",
            "Epoch 94/100\n",
            "1/1 [==============================] - 0s 14ms/step - loss: 0.2909 - mae: 0.2909\n",
            "Epoch 95/100\n",
            "1/1 [==============================] - 0s 11ms/step - loss: 0.2491 - mae: 0.2491\n",
            "Epoch 96/100\n",
            "1/1 [==============================] - 0s 10ms/step - loss: 0.1767 - mae: 0.1767\n",
            "Epoch 97/100\n",
            "1/1 [==============================] - 0s 28ms/step - loss: 0.0816 - mae: 0.0816\n",
            "Epoch 98/100\n",
            "1/1 [==============================] - 0s 15ms/step - loss: 0.3671 - mae: 0.3671\n",
            "Epoch 99/100\n",
            "1/1 [==============================] - 0s 17ms/step - loss: 0.4275 - mae: 0.4275\n",
            "Epoch 100/100\n",
            "1/1 [==============================] - 0s 10ms/step - loss: 0.2023 - mae: 0.2023\n"
          ]
        },
        {
          "output_type": "execute_result",
          "data": {
            "text/plain": [
              "<keras.callbacks.History at 0x7fcdaa821390>"
            ]
          },
          "metadata": {},
          "execution_count": 17
        }
      ]
    },
    {
      "cell_type": "code",
      "source": [
        "model.predict([20])"
      ],
      "metadata": {
        "id": "Af5UozsuKev_"
      },
      "execution_count": null,
      "outputs": []
    },
    {
      "cell_type": "code",
      "source": [
        "x = np.arange(-100,100,4)\n",
        "len(x)"
      ],
      "metadata": {
        "colab": {
          "base_uri": "https://localhost:8080/"
        },
        "id": "jDblBq_HUDpz",
        "outputId": "81a1a2f7-3784-4034-ee74-083cb492532d"
      },
      "execution_count": 4,
      "outputs": [
        {
          "output_type": "execute_result",
          "data": {
            "text/plain": [
              "50"
            ]
          },
          "metadata": {},
          "execution_count": 4
        }
      ]
    },
    {
      "cell_type": "code",
      "source": [
        "y = x+10\n",
        "y"
      ],
      "metadata": {
        "colab": {
          "base_uri": "https://localhost:8080/"
        },
        "id": "PJpfQLJ7UECT",
        "outputId": "57b4c6f1-9f4f-410b-fe8f-277917c8e158"
      },
      "execution_count": 5,
      "outputs": [
        {
          "output_type": "execute_result",
          "data": {
            "text/plain": [
              "array([-90, -86, -82, -78, -74, -70, -66, -62, -58, -54, -50, -46, -42,\n",
              "       -38, -34, -30, -26, -22, -18, -14, -10,  -6,  -2,   2,   6,  10,\n",
              "        14,  18,  22,  26,  30,  34,  38,  42,  46,  50,  54,  58,  62,\n",
              "        66,  70,  74,  78,  82,  86,  90,  94,  98, 102, 106])"
            ]
          },
          "metadata": {},
          "execution_count": 5
        }
      ]
    },
    {
      "cell_type": "code",
      "source": [
        "plt.scatter(x,y)"
      ],
      "metadata": {
        "colab": {
          "base_uri": "https://localhost:8080/",
          "height": 282
        },
        "id": "SvW9Mjh1UEFL",
        "outputId": "0662b218-5b82-470c-bde8-595a1182680c"
      },
      "execution_count": 6,
      "outputs": [
        {
          "output_type": "execute_result",
          "data": {
            "text/plain": [
              "<matplotlib.collections.PathCollection at 0x7fa37086ea90>"
            ]
          },
          "metadata": {},
          "execution_count": 6
        },
        {
          "output_type": "display_data",
          "data": {
            "text/plain": [
              "<Figure size 432x288 with 1 Axes>"
            ],
            "image/png": "[encoded data removed]"
          },
          "metadata": {
            "needs_background": "light"
          }
        }
      ]
    },
    {
      "cell_type": "code",
      "source": [
        "x_train = x[:40]\n",
        "y_train = y[:40]\n",
        "x_test = x[40:]\n",
        "y_test = y[40:]"
      ],
      "metadata": {
        "id": "cHwWJjbsUEH7"
      },
      "execution_count": 11,
      "outputs": []
    },
    {
      "cell_type": "code",
      "source": [
        "plt.figure(figsize=(10,7))\n",
        "plt.scatter(x_train, y_train , c='b', label=\"training data\")\n",
        "plt.scatter(x_test, y_test , c='r', label=\"testing data\")\n",
        "plt.legend()"
      ],
      "metadata": {
        "colab": {
          "base_uri": "https://localhost:8080/",
          "height": 445
        },
        "id": "FHo89wRoUEKT",
        "outputId": "47f940ab-b684-42f9-b55c-75a0c34d9e37"
      },
      "execution_count": 13,
      "outputs": [
        {
          "output_type": "execute_result",
          "data": {
            "text/plain": [
              "<matplotlib.legend.Legend at 0x7fa36f05cd90>"
            ]
          },
          "metadata": {},
          "execution_count": 13
        },
        {
          "output_type": "display_data",
          "data": {
            "text/plain": [
              "<Figure size 720x504 with 1 Axes>"
            ],
            "image/png": "[encoded data removed]"
          },
          "metadata": {
            "needs_background": "light"
          }
        }
      ]
    },
    {
      "cell_type": "code",
      "source": [
        "tf.random.set_seed(42)\n"
      ],
      "metadata": {
        "id": "LPubwb8oUEMj"
      },
      "execution_count": 65,
      "outputs": []
    },
    {
      "cell_type": "code",
      "source": [
        "model = tf.keras.Sequential([tf.keras.layers.Dense(10, input_shape=[1]),tf.keras.layers.Dense(2)])"
      ],
      "metadata": {
        "id": "Y5HjJpvVWKPj"
      },
      "execution_count": 66,
      "outputs": []
    },
    {
      "cell_type": "code",
      "source": [
        "model.compile(loss=tf.keras.losses.mae,\n",
        "              optimizer = tf.keras.optimizers.Adam(learning_rate=0.01),\n",
        "              metrics=\"mae\")"
      ],
      "metadata": {
        "id": "N1YTRh53WrCs"
      },
      "execution_count": 67,
      "outputs": []
    },
    {
      "cell_type": "code",
      "source": [
        "model.fit(x_train,y_train, epochs=100)"
      ],
      "metadata": {
        "colab": {
          "base_uri": "https://localhost:8080/"
        },
        "id": "ovzCwYTfXF05",
        "outputId": "2737561f-f65e-4225-ffc0-7b5de29b2a4a"
      },
      "execution_count": 68,
      "outputs": [
        {
          "output_type": "stream",
          "name": "stdout",
          "text": [
            "Epoch 1/100\n",
            "2/2 [==============================] - 0s 11ms/step - loss: 35.3013 - mae: 35.3013\n",
            "Epoch 2/100\n",
            "2/2 [==============================] - 0s 9ms/step - loss: 30.3434 - mae: 30.3434\n",
            "Epoch 3/100\n",
            "2/2 [==============================] - 0s 12ms/step - loss: 25.6752 - mae: 25.6752\n",
            "Epoch 4/100\n",
            "2/2 [==============================] - 0s 8ms/step - loss: 21.0298 - mae: 21.0298\n",
            "Epoch 5/100\n",
            "2/2 [==============================] - 0s 11ms/step - loss: 16.6250 - mae: 16.6250\n",
            "Epoch 6/100\n",
            "2/2 [==============================] - 0s 4ms/step - loss: 12.4122 - mae: 12.4122\n",
            "Epoch 7/100\n",
            "2/2 [==============================] - 0s 6ms/step - loss: 8.9977 - mae: 8.9977\n",
            "Epoch 8/100\n",
            "2/2 [==============================] - 0s 10ms/step - loss: 8.4436 - mae: 8.4436\n",
            "Epoch 9/100\n",
            "2/2 [==============================] - 0s 7ms/step - loss: 9.4397 - mae: 9.4397\n",
            "Epoch 10/100\n",
            "2/2 [==============================] - 0s 11ms/step - loss: 9.9920 - mae: 9.9920\n",
            "Epoch 11/100\n",
            "2/2 [==============================] - 0s 5ms/step - loss: 10.1708 - mae: 10.1708\n",
            "Epoch 12/100\n",
            "2/2 [==============================] - 0s 4ms/step - loss: 9.8501 - mae: 9.8501\n",
            "Epoch 13/100\n",
            "2/2 [==============================] - 0s 4ms/step - loss: 9.0641 - mae: 9.0641\n",
            "Epoch 14/100\n",
            "2/2 [==============================] - 0s 5ms/step - loss: 8.1242 - mae: 8.1242\n",
            "Epoch 15/100\n",
            "2/2 [==============================] - 0s 5ms/step - loss: 7.5740 - mae: 7.5740\n",
            "Epoch 16/100\n",
            "2/2 [==============================] - 0s 4ms/step - loss: 7.8058 - mae: 7.8058\n",
            "Epoch 17/100\n",
            "2/2 [==============================] - 0s 4ms/step - loss: 8.1947 - mae: 8.1947\n",
            "Epoch 18/100\n",
            "2/2 [==============================] - 0s 6ms/step - loss: 8.1490 - mae: 8.1490\n",
            "Epoch 19/100\n",
            "2/2 [==============================] - 0s 5ms/step - loss: 7.8014 - mae: 7.8014\n",
            "Epoch 20/100\n",
            "2/2 [==============================] - 0s 7ms/step - loss: 7.5210 - mae: 7.5210\n",
            "Epoch 21/100\n",
            "2/2 [==============================] - 0s 5ms/step - loss: 7.2780 - mae: 7.2780\n",
            "Epoch 22/100\n",
            "2/2 [==============================] - 0s 5ms/step - loss: 7.1427 - mae: 7.1427\n",
            "Epoch 23/100\n",
            "2/2 [==============================] - 0s 4ms/step - loss: 7.2856 - mae: 7.2856\n",
            "Epoch 24/100\n",
            "2/2 [==============================] - 0s 4ms/step - loss: 7.3255 - mae: 7.3255\n",
            "Epoch 25/100\n",
            "2/2 [==============================] - 0s 5ms/step - loss: 7.0449 - mae: 7.0449\n",
            "Epoch 26/100\n",
            "2/2 [==============================] - 0s 6ms/step - loss: 6.7958 - mae: 6.7958\n",
            "Epoch 27/100\n",
            "2/2 [==============================] - 0s 5ms/step - loss: 6.9137 - mae: 6.9137\n",
            "Epoch 28/100\n",
            "2/2 [==============================] - 0s 6ms/step - loss: 6.9421 - mae: 6.9421\n",
            "Epoch 29/100\n",
            "2/2 [==============================] - 0s 6ms/step - loss: 6.8068 - mae: 6.8068\n",
            "Epoch 30/100\n",
            "2/2 [==============================] - 0s 10ms/step - loss: 6.6383 - mae: 6.6383\n",
            "Epoch 31/100\n",
            "2/2 [==============================] - 0s 9ms/step - loss: 6.5808 - mae: 6.5808\n",
            "Epoch 32/100\n",
            "2/2 [==============================] - 0s 6ms/step - loss: 6.6123 - mae: 6.6123\n",
            "Epoch 33/100\n",
            "2/2 [==============================] - 0s 5ms/step - loss: 6.4857 - mae: 6.4857\n",
            "Epoch 34/100\n",
            "2/2 [==============================] - 0s 6ms/step - loss: 6.3436 - mae: 6.3436\n",
            "Epoch 35/100\n",
            "2/2 [==============================] - 0s 7ms/step - loss: 6.4387 - mae: 6.4387\n",
            "Epoch 36/100\n",
            "2/2 [==============================] - 0s 4ms/step - loss: 6.5717 - mae: 6.5717\n",
            "Epoch 37/100\n",
            "2/2 [==============================] - 0s 5ms/step - loss: 6.5668 - mae: 6.5668\n",
            "Epoch 38/100\n",
            "2/2 [==============================] - 0s 5ms/step - loss: 6.3260 - mae: 6.3260\n",
            "Epoch 39/100\n",
            "2/2 [==============================] - 0s 9ms/step - loss: 6.1039 - mae: 6.1039\n",
            "Epoch 40/100\n",
            "2/2 [==============================] - 0s 11ms/step - loss: 6.1315 - mae: 6.1315\n",
            "Epoch 41/100\n",
            "2/2 [==============================] - 0s 5ms/step - loss: 6.0716 - mae: 6.0716\n",
            "Epoch 42/100\n",
            "2/2 [==============================] - 0s 5ms/step - loss: 5.9064 - mae: 5.9064\n",
            "Epoch 43/100\n",
            "2/2 [==============================] - 0s 6ms/step - loss: 5.8446 - mae: 5.8446\n",
            "Epoch 44/100\n",
            "2/2 [==============================] - 0s 6ms/step - loss: 5.8156 - mae: 5.8156\n",
            "Epoch 45/100\n",
            "2/2 [==============================] - 0s 5ms/step - loss: 5.7530 - mae: 5.7530\n",
            "Epoch 46/100\n",
            "2/2 [==============================] - 0s 6ms/step - loss: 5.7200 - mae: 5.7200\n",
            "Epoch 47/100\n",
            "2/2 [==============================] - 0s 5ms/step - loss: 5.6211 - mae: 5.6211\n",
            "Epoch 48/100\n",
            "2/2 [==============================] - 0s 5ms/step - loss: 5.5172 - mae: 5.5172\n",
            "Epoch 49/100\n",
            "2/2 [==============================] - 0s 6ms/step - loss: 5.4503 - mae: 5.4503\n",
            "Epoch 50/100\n",
            "2/2 [==============================] - 0s 5ms/step - loss: 5.3446 - mae: 5.3446\n",
            "Epoch 51/100\n",
            "2/2 [==============================] - 0s 7ms/step - loss: 5.3232 - mae: 5.3232\n",
            "Epoch 52/100\n",
            "2/2 [==============================] - 0s 10ms/step - loss: 5.2448 - mae: 5.2448\n",
            "Epoch 53/100\n",
            "2/2 [==============================] - 0s 12ms/step - loss: 5.1516 - mae: 5.1516\n",
            "Epoch 54/100\n",
            "2/2 [==============================] - 0s 4ms/step - loss: 5.0857 - mae: 5.0857\n",
            "Epoch 55/100\n",
            "2/2 [==============================] - 0s 6ms/step - loss: 5.1125 - mae: 5.1125\n",
            "Epoch 56/100\n",
            "2/2 [==============================] - 0s 5ms/step - loss: 4.8936 - mae: 4.8936\n",
            "Epoch 57/100\n",
            "2/2 [==============================] - 0s 6ms/step - loss: 4.9233 - mae: 4.9233\n",
            "Epoch 58/100\n",
            "2/2 [==============================] - 0s 6ms/step - loss: 5.2002 - mae: 5.2002\n",
            "Epoch 59/100\n",
            "2/2 [==============================] - 0s 6ms/step - loss: 4.9276 - mae: 4.9276\n",
            "Epoch 60/100\n",
            "2/2 [==============================] - 0s 7ms/step - loss: 4.6476 - mae: 4.6476\n",
            "Epoch 61/100\n",
            "2/2 [==============================] - 0s 5ms/step - loss: 4.7170 - mae: 4.7170\n",
            "Epoch 62/100\n",
            "2/2 [==============================] - 0s 8ms/step - loss: 4.4352 - mae: 4.4352\n",
            "Epoch 63/100\n",
            "2/2 [==============================] - 0s 5ms/step - loss: 4.4839 - mae: 4.4839\n",
            "Epoch 64/100\n",
            "2/2 [==============================] - 0s 5ms/step - loss: 4.2844 - mae: 4.2844\n",
            "Epoch 65/100\n",
            "2/2 [==============================] - 0s 11ms/step - loss: 4.0662 - mae: 4.0662\n",
            "Epoch 66/100\n",
            "2/2 [==============================] - 0s 6ms/step - loss: 3.9883 - mae: 3.9883\n",
            "Epoch 67/100\n",
            "2/2 [==============================] - 0s 7ms/step - loss: 3.8510 - mae: 3.8510\n",
            "Epoch 68/100\n",
            "2/2 [==============================] - 0s 7ms/step - loss: 3.7528 - mae: 3.7528\n",
            "Epoch 69/100\n",
            "2/2 [==============================] - 0s 8ms/step - loss: 3.6393 - mae: 3.6393\n",
            "Epoch 70/100\n",
            "2/2 [==============================] - 0s 8ms/step - loss: 3.5246 - mae: 3.5246\n",
            "Epoch 71/100\n",
            "2/2 [==============================] - 0s 5ms/step - loss: 3.4502 - mae: 3.4502\n",
            "Epoch 72/100\n",
            "2/2 [==============================] - 0s 12ms/step - loss: 3.3246 - mae: 3.3246\n",
            "Epoch 73/100\n",
            "2/2 [==============================] - 0s 9ms/step - loss: 3.2335 - mae: 3.2335\n",
            "Epoch 74/100\n",
            "2/2 [==============================] - 0s 7ms/step - loss: 3.0124 - mae: 3.0124\n",
            "Epoch 75/100\n",
            "2/2 [==============================] - 0s 6ms/step - loss: 3.0829 - mae: 3.0829\n",
            "Epoch 76/100\n",
            "2/2 [==============================] - 0s 6ms/step - loss: 2.8428 - mae: 2.8428\n",
            "Epoch 77/100\n",
            "2/2 [==============================] - 0s 5ms/step - loss: 2.6585 - mae: 2.6585\n",
            "Epoch 78/100\n",
            "2/2 [==============================] - 0s 5ms/step - loss: 2.5270 - mae: 2.5270\n",
            "Epoch 79/100\n",
            "2/2 [==============================] - 0s 8ms/step - loss: 2.3130 - mae: 2.3130\n",
            "Epoch 80/100\n",
            "2/2 [==============================] - 0s 5ms/step - loss: 2.1324 - mae: 2.1324\n",
            "Epoch 81/100\n",
            "2/2 [==============================] - 0s 6ms/step - loss: 1.9610 - mae: 1.9610\n",
            "Epoch 82/100\n",
            "2/2 [==============================] - 0s 7ms/step - loss: 2.0234 - mae: 2.0234\n",
            "Epoch 83/100\n",
            "2/2 [==============================] - 0s 5ms/step - loss: 1.6580 - mae: 1.6580\n",
            "Epoch 84/100\n",
            "2/2 [==============================] - 0s 7ms/step - loss: 1.7979 - mae: 1.7979\n",
            "Epoch 85/100\n",
            "2/2 [==============================] - 0s 7ms/step - loss: 1.6357 - mae: 1.6357\n",
            "Epoch 86/100\n",
            "2/2 [==============================] - 0s 6ms/step - loss: 1.5391 - mae: 1.5391\n",
            "Epoch 87/100\n",
            "2/2 [==============================] - 0s 5ms/step - loss: 1.2995 - mae: 1.2995\n",
            "Epoch 88/100\n",
            "2/2 [==============================] - 0s 13ms/step - loss: 1.4456 - mae: 1.4456\n",
            "Epoch 89/100\n",
            "2/2 [==============================] - 0s 5ms/step - loss: 1.4230 - mae: 1.4230\n",
            "Epoch 90/100\n",
            "2/2 [==============================] - 0s 5ms/step - loss: 1.4094 - mae: 1.4094\n",
            "Epoch 91/100\n",
            "2/2 [==============================] - 0s 17ms/step - loss: 1.3790 - mae: 1.3790\n",
            "Epoch 92/100\n",
            "2/2 [==============================] - 0s 8ms/step - loss: 1.1522 - mae: 1.1522\n",
            "Epoch 93/100\n",
            "2/2 [==============================] - 0s 18ms/step - loss: 1.0252 - mae: 1.0252\n",
            "Epoch 94/100\n",
            "2/2 [==============================] - 0s 11ms/step - loss: 0.8662 - mae: 0.8662\n",
            "Epoch 95/100\n",
            "2/2 [==============================] - 0s 14ms/step - loss: 0.7565 - mae: 0.7565\n",
            "Epoch 96/100\n",
            "2/2 [==============================] - 0s 12ms/step - loss: 0.5010 - mae: 0.5010\n",
            "Epoch 97/100\n",
            "2/2 [==============================] - 0s 11ms/step - loss: 0.5051 - mae: 0.5051\n",
            "Epoch 98/100\n",
            "2/2 [==============================] - 0s 16ms/step - loss: 0.4862 - mae: 0.4862\n",
            "Epoch 99/100\n",
            "2/2 [==============================] - 0s 15ms/step - loss: 0.3973 - mae: 0.3973\n",
            "Epoch 100/100\n",
            "2/2 [==============================] - 0s 13ms/step - loss: 0.1345 - mae: 0.1345\n"
          ]
        },
        {
          "output_type": "execute_result",
          "data": {
            "text/plain": [
              "<keras.callbacks.History at 0x7fa369f1cfd0>"
            ]
          },
          "metadata": {},
          "execution_count": 68
        }
      ]
    },
    {
      "cell_type": "code",
      "source": [
        "y_preds = model.predict(x_test)"
      ],
      "metadata": {
        "id": "H4FvH-0wXRtY"
      },
      "execution_count": 56,
      "outputs": []
    },
    {
      "cell_type": "code",
      "source": [
        "y_preds"
      ],
      "metadata": {
        "colab": {
          "base_uri": "https://localhost:8080/"
        },
        "id": "YEELdOYTYpAO",
        "outputId": "6b11159e-8aa6-4786-9707-063ead36e49b"
      },
      "execution_count": 57,
      "outputs": [
        {
          "output_type": "execute_result",
          "data": {
            "text/plain": [
              "array([[ 72.42797 ],\n",
              "       [ 76.58641 ],\n",
              "       [ 80.74485 ],\n",
              "       [ 84.90329 ],\n",
              "       [ 89.06173 ],\n",
              "       [ 93.22018 ],\n",
              "       [ 97.378624],\n",
              "       [101.537056],\n",
              "       [105.695496],\n",
              "       [109.853935]], dtype=float32)"
            ]
          },
          "metadata": {},
          "execution_count": 57
        }
      ]
    },
    {
      "cell_type": "code",
      "source": [
        "def plot_predictions(train_data=x_train, train_labels=y_train, test_data=x_test,test_labels=y_test, predctions=y_preds):\n",
        "            plt.figure(figsize=(10,7))\n",
        "            plt.scatter(train_data, train_labels , c='b', label=\"training data\")\n",
        "            plt.scatter(test_data, test_labels , c='g', label=\"testing data\")\n",
        "            plt.scatter(test_data, predctions , c='r', label=\"predictions data\")\n",
        "            plt.legend()        \n"
      ],
      "metadata": {
        "id": "60ypGzYSYrmX"
      },
      "execution_count": 60,
      "outputs": []
    },
    {
      "cell_type": "code",
      "source": [
        "plot_predictions()"
      ],
      "metadata": {
        "colab": {
          "base_uri": "https://localhost:8080/",
          "height": 428
        },
        "id": "JB5Rr57PZvSa",
        "outputId": "fd7f0c0b-4226-4124-8eda-70bd7f707c32"
      },
      "execution_count": 61,
      "outputs": [
        {
          "output_type": "display_data",
          "data": {
            "text/plain": [
              "<Figure size 720x504 with 1 Axes>"
            ],
            "image/png": "[encoded data removed]"
          },
          "metadata": {
            "needs_background": "light"
          }
        }
      ]
    },
    {
      "cell_type": "code",
      "source": [
        " \n",
        "\n",
        "tf.keras.utils.plot_model(model, show_shapes=True)\n",
        "\n",
        "\n",
        "\n"
      ],
      "metadata": {
        "colab": {
          "base_uri": "https://localhost:8080/",
          "height": 312
        },
        "id": "Iyr3wQEla5jd",
        "outputId": "c94ddfd0-4449-4141-8a1c-62348a88c1f0"
      },
      "execution_count": 69,
      "outputs": [
        {
          "output_type": "execute_result",
          "data": {
            "image/png": "[encoded data removed]",
            "text/plain": [
              "<IPython.core.display.Image object>"
            ]
          },
          "metadata": {},
          "execution_count": 69
        }
      ]
    },
    {
      "cell_type": "code",
      "source": [
        "model.summary()"
      ],
      "metadata": {
        "colab": {
          "base_uri": "https://localhost:8080/"
        },
        "id": "KCaJBHGnc1x1",
        "outputId": "0b00c9e0-b0d4-4207-dcc8-5212f60efd24"
      },
      "execution_count": 70,
      "outputs": [
        {
          "output_type": "stream",
          "name": "stdout",
          "text": [
            "Model: \"sequential_9\"\n",
            "_________________________________________________________________\n",
            " Layer (type)                Output Shape              Param #   \n",
            "=================================================================\n",
            " dense_18 (Dense)            (None, 10)                20        \n",
            "                                                                 \n",
            " dense_19 (Dense)            (None, 2)                 22        \n",
            "                                                                 \n",
            "=================================================================\n",
            "Total params: 42\n",
            "Trainable params: 42\n",
            "Non-trainable params: 0\n",
            "_________________________________________________________________\n"
          ]
        }
      ]
    },
    {
      "cell_type": "code",
      "source": [
        ""
      ],
      "metadata": {
        "id": "ys4KGRBYc4Lk"
      },
      "execution_count": null,
      "outputs": []
    }
  ]
}