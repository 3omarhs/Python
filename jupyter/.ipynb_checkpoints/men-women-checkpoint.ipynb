{
 "cells": [
  {
   "cell_type": "code",
   "execution_count": null,
   "id": "2bce98de",
   "metadata": {
    "execution": {
     "iopub.execute_input": "2021-11-26T14:36:52.275433Z",
     "iopub.status.busy": "2021-11-26T14:36:52.273835Z",
     "iopub.status.idle": "2021-11-26T14:36:58.212193Z",
     "shell.execute_reply": "2021-11-26T14:36:58.211525Z",
     "shell.execute_reply.started": "2021-11-26T14:14:36.479202Z"
    },
    "papermill": {
     "duration": 5.984394,
     "end_time": "2021-11-26T14:36:58.212366",
     "exception": false,
     "start_time": "2021-11-26T14:36:52.227972",
     "status": "completed"
    },
    "tags": []
   },
   "outputs": [],
   "source": [
    "from PIL import Image\n",
    "import glob\n",
    "image_list = []\n",
    "for filename in glob.glob('../input/men-women-classification/men/*jpg'): #assuming gif\n",
    "    im=Image.open(filename)\n",
    "    image_list.append(im)"
   ]
  },
  {
   "cell_type": "code",
   "execution_count": null,
   "id": "08376f6e",
   "metadata": {
    "execution": {
     "iopub.execute_input": "2021-11-26T14:36:58.288974Z",
     "iopub.status.busy": "2021-11-26T14:36:58.288382Z",
     "iopub.status.idle": "2021-11-26T14:37:06.405705Z",
     "shell.execute_reply": "2021-11-26T14:37:06.406544Z",
     "shell.execute_reply.started": "2021-11-26T14:14:45.624517Z"
    },
    "papermill": {
     "duration": 8.157548,
     "end_time": "2021-11-26T14:37:06.406710",
     "exception": false,
     "start_time": "2021-11-26T14:36:58.249162",
     "status": "completed"
    },
    "tags": []
   },
   "outputs": [],
   "source": [
    "image_list2 = []\n",
    "for filename in glob.glob('../input/men-women-classification/women/*jpg'): #assuming gif\n",
    "    im2=Image.open(filename)\n",
    "    image_list2.append(im2)"
   ]
  },
  {
   "cell_type": "code",
   "execution_count": null,
   "id": "a76d18fd",
   "metadata": {
    "execution": {
     "iopub.execute_input": "2021-11-26T14:37:06.479695Z",
     "iopub.status.busy": "2021-11-26T14:37:06.479001Z",
     "iopub.status.idle": "2021-11-26T14:37:06.675145Z",
     "shell.execute_reply": "2021-11-26T14:37:06.675609Z",
     "shell.execute_reply.started": "2021-11-26T14:14:58.699194Z"
    },
    "papermill": {
     "duration": 0.234883,
     "end_time": "2021-11-26T14:37:06.675763",
     "exception": false,
     "start_time": "2021-11-26T14:37:06.440880",
     "status": "completed"
    },
    "tags": []
   },
   "outputs": [],
   "source": [
    "import cv2\n",
    "import numpy as np"
   ]
  },
  {
   "cell_type": "code",
   "execution_count": null,
   "id": "efa66981",
   "metadata": {
    "execution": {
     "iopub.execute_input": "2021-11-26T14:37:06.746639Z",
     "iopub.status.busy": "2021-11-26T14:37:06.745140Z",
     "iopub.status.idle": "2021-11-26T14:37:06.749419Z",
     "shell.execute_reply": "2021-11-26T14:37:06.749864Z",
     "shell.execute_reply.started": "2021-11-26T14:14:58.881777Z"
    },
    "papermill": {
     "duration": 0.040534,
     "end_time": "2021-11-26T14:37:06.750001",
     "exception": false,
     "start_time": "2021-11-26T14:37:06.709467",
     "status": "completed"
    },
    "tags": []
   },
   "outputs": [],
   "source": [
    "A = image_list2[0]"
   ]
  },
  {
   "cell_type": "code",
   "execution_count": null,
   "id": "d7f3884c",
   "metadata": {
    "execution": {
     "iopub.execute_input": "2021-11-26T14:37:06.821102Z",
     "iopub.status.busy": "2021-11-26T14:37:06.820486Z",
     "iopub.status.idle": "2021-11-26T14:37:06.824696Z",
     "shell.execute_reply": "2021-11-26T14:37:06.824088Z",
     "shell.execute_reply.started": "2021-11-26T14:14:58.888172Z"
    },
    "papermill": {
     "duration": 0.041148,
     "end_time": "2021-11-26T14:37:06.824845",
     "exception": false,
     "start_time": "2021-11-26T14:37:06.783697",
     "status": "completed"
    },
    "tags": []
   },
   "outputs": [],
   "source": [
    "B = image_list[0]"
   ]
  },
  {
   "cell_type": "code",
   "execution_count": null,
   "id": "e9aa193a",
   "metadata": {
    "execution": {
     "iopub.execute_input": "2021-11-26T14:37:06.900877Z",
     "iopub.status.busy": "2021-11-26T14:37:06.897669Z",
     "iopub.status.idle": "2021-11-26T14:37:07.007074Z",
     "shell.execute_reply": "2021-11-26T14:37:07.007489Z",
     "shell.execute_reply.started": "2021-11-26T14:14:58.898323Z"
    },
    "papermill": {
     "duration": 0.148277,
     "end_time": "2021-11-26T14:37:07.007620",
     "exception": false,
     "start_time": "2021-11-26T14:37:06.859343",
     "status": "completed"
    },
    "tags": []
   },
   "outputs": [],
   "source": [
    "A"
   ]
  },
  {
   "cell_type": "code",
   "execution_count": null,
   "id": "9c84648d",
   "metadata": {
    "execution": {
     "iopub.execute_input": "2021-11-26T14:37:07.173184Z",
     "iopub.status.busy": "2021-11-26T14:37:07.167092Z",
     "iopub.status.idle": "2021-11-26T14:37:07.272350Z",
     "shell.execute_reply": "2021-11-26T14:37:07.271633Z",
     "shell.execute_reply.started": "2021-11-26T14:14:59.009750Z"
    },
    "papermill": {
     "duration": 0.220617,
     "end_time": "2021-11-26T14:37:07.272527",
     "exception": false,
     "start_time": "2021-11-26T14:37:07.051910",
     "status": "completed"
    },
    "tags": []
   },
   "outputs": [],
   "source": [
    "B"
   ]
  },
  {
   "cell_type": "code",
   "execution_count": null,
   "id": "60c09478",
   "metadata": {
    "execution": {
     "iopub.execute_input": "2021-11-26T14:37:07.436973Z",
     "iopub.status.busy": "2021-11-26T14:37:07.436112Z",
     "iopub.status.idle": "2021-11-26T14:37:07.440865Z",
     "shell.execute_reply": "2021-11-26T14:37:07.440151Z",
     "shell.execute_reply.started": "2021-11-26T14:14:59.080687Z"
    },
    "papermill": {
     "duration": 0.091173,
     "end_time": "2021-11-26T14:37:07.441019",
     "exception": false,
     "start_time": "2021-11-26T14:37:07.349846",
     "status": "completed"
    },
    "tags": []
   },
   "outputs": [],
   "source": [
    "A = A.resize((128,128))"
   ]
  },
  {
   "cell_type": "code",
   "execution_count": null,
   "id": "6d4fbe35",
   "metadata": {
    "execution": {
     "iopub.execute_input": "2021-11-26T14:37:07.606916Z",
     "iopub.status.busy": "2021-11-26T14:37:07.606074Z",
     "iopub.status.idle": "2021-11-26T14:37:07.610991Z",
     "shell.execute_reply": "2021-11-26T14:37:07.610329Z",
     "shell.execute_reply.started": "2021-11-26T14:14:59.090333Z"
    },
    "papermill": {
     "duration": 0.09137,
     "end_time": "2021-11-26T14:37:07.611157",
     "exception": false,
     "start_time": "2021-11-26T14:37:07.519787",
     "status": "completed"
    },
    "tags": []
   },
   "outputs": [],
   "source": [
    "B = B.resize((128,128))"
   ]
  },
  {
   "cell_type": "code",
   "execution_count": null,
   "id": "6c3b6d64",
   "metadata": {
    "execution": {
     "iopub.execute_input": "2021-11-26T14:37:07.764493Z",
     "iopub.status.busy": "2021-11-26T14:37:07.763637Z",
     "iopub.status.idle": "2021-11-26T14:37:07.773445Z",
     "shell.execute_reply": "2021-11-26T14:37:07.773022Z",
     "shell.execute_reply.started": "2021-11-26T14:14:59.099838Z"
    },
    "papermill": {
     "duration": 0.084084,
     "end_time": "2021-11-26T14:37:07.773561",
     "exception": false,
     "start_time": "2021-11-26T14:37:07.689477",
     "status": "completed"
    },
    "tags": []
   },
   "outputs": [],
   "source": [
    "A"
   ]
  },
  {
   "cell_type": "code",
   "execution_count": null,
   "id": "c5d7baa6",
   "metadata": {
    "execution": {
     "iopub.execute_input": "2021-11-26T14:37:07.878924Z",
     "iopub.status.busy": "2021-11-26T14:37:07.878189Z",
     "iopub.status.idle": "2021-11-26T14:37:07.887294Z",
     "shell.execute_reply": "2021-11-26T14:37:07.887696Z",
     "shell.execute_reply.started": "2021-11-26T14:14:59.113025Z"
    },
    "papermill": {
     "duration": 0.066725,
     "end_time": "2021-11-26T14:37:07.887848",
     "exception": false,
     "start_time": "2021-11-26T14:37:07.821123",
     "status": "completed"
    },
    "tags": []
   },
   "outputs": [],
   "source": [
    "B"
   ]
  },
  {
   "cell_type": "code",
   "execution_count": null,
   "id": "ca45611b",
   "metadata": {
    "papermill": {
     "duration": 0.04802,
     "end_time": "2021-11-26T14:37:07.985080",
     "exception": false,
     "start_time": "2021-11-26T14:37:07.937060",
     "status": "completed"
    },
    "tags": []
   },
   "outputs": [],
   "source": []
  },
  {
   "cell_type": "code",
   "execution_count": null,
   "id": "96dc238d",
   "metadata": {
    "execution": {
     "iopub.execute_input": "2021-11-26T14:37:08.089823Z",
     "iopub.status.busy": "2021-11-26T14:37:08.088922Z",
     "iopub.status.idle": "2021-11-26T14:37:08.090715Z",
     "shell.execute_reply": "2021-11-26T14:37:08.091142Z",
     "shell.execute_reply.started": "2021-11-26T14:14:59.125803Z"
    },
    "papermill": {
     "duration": 0.056668,
     "end_time": "2021-11-26T14:37:08.091285",
     "exception": false,
     "start_time": "2021-11-26T14:37:08.034617",
     "status": "completed"
    },
    "tags": []
   },
   "outputs": [],
   "source": [
    "A = np.array(A)"
   ]
  },
  {
   "cell_type": "code",
   "execution_count": null,
   "id": "41176562",
   "metadata": {
    "execution": {
     "iopub.execute_input": "2021-11-26T14:37:08.194622Z",
     "iopub.status.busy": "2021-11-26T14:37:08.193982Z",
     "iopub.status.idle": "2021-11-26T14:37:08.196607Z",
     "shell.execute_reply": "2021-11-26T14:37:08.197066Z",
     "shell.execute_reply.started": "2021-11-26T14:14:59.131431Z"
    },
    "papermill": {
     "duration": 0.057207,
     "end_time": "2021-11-26T14:37:08.197203",
     "exception": false,
     "start_time": "2021-11-26T14:37:08.139996",
     "status": "completed"
    },
    "tags": []
   },
   "outputs": [],
   "source": [
    "A.shape"
   ]
  },
  {
   "cell_type": "code",
   "execution_count": null,
   "id": "34fa4c31",
   "metadata": {
    "execution": {
     "iopub.execute_input": "2021-11-26T14:37:08.306024Z",
     "iopub.status.busy": "2021-11-26T14:37:08.305277Z",
     "iopub.status.idle": "2021-11-26T14:37:13.434701Z",
     "shell.execute_reply": "2021-11-26T14:37:13.435259Z",
     "shell.execute_reply.started": "2021-11-26T14:14:59.145162Z"
    },
    "papermill": {
     "duration": 5.189009,
     "end_time": "2021-11-26T14:37:13.435448",
     "exception": false,
     "start_time": "2021-11-26T14:37:08.246439",
     "status": "completed"
    },
    "tags": []
   },
   "outputs": [],
   "source": [
    "import os\n",
    "import pathlib\n",
    "import pickle\n",
    "import numpy as np\n",
    "import pandas as pd\n",
    "import matplotlib.pyplot as plt\n",
    "import tensorflow as tf\n",
    "from PIL import Image, ImageOps\n",
    "from IPython.display import display\n",
    "from sklearn.utils import shuffle\n",
    "import warnings\n",
    "from tensorflow.keras.utils import to_categorical\n",
    "os.environ['TF_CPP_MIN_LOG_LEVEL'] = '2' \n",
    "warnings.filterwarnings('ignore')"
   ]
  },
  {
   "cell_type": "code",
   "execution_count": null,
   "id": "e0b6b3ea",
   "metadata": {
    "execution": {
     "iopub.execute_input": "2021-11-26T14:37:13.542065Z",
     "iopub.status.busy": "2021-11-26T14:37:13.541149Z",
     "iopub.status.idle": "2021-11-26T14:37:13.543031Z",
     "shell.execute_reply": "2021-11-26T14:37:13.543488Z",
     "shell.execute_reply.started": "2021-11-26T14:15:04.484642Z"
    },
    "papermill": {
     "duration": 0.057798,
     "end_time": "2021-11-26T14:37:13.543620",
     "exception": false,
     "start_time": "2021-11-26T14:37:13.485822",
     "status": "completed"
    },
    "tags": []
   },
   "outputs": [],
   "source": [
    "from keras import applications\n",
    "from keras.preprocessing.image import ImageDataGenerator\n",
    "from keras import optimizers\n",
    "from keras.models import Sequential, Model \n",
    "from keras.layers import Dropout, Flatten, Dense, GlobalAveragePooling2D,Activation\n",
    "from keras import backend as k \n",
    "from keras.callbacks import ModelCheckpoint, LearningRateScheduler, TensorBoard, EarlyStopping"
   ]
  },
  {
   "cell_type": "code",
   "execution_count": null,
   "id": "860f954c",
   "metadata": {
    "execution": {
     "iopub.execute_input": "2021-11-26T14:37:13.649630Z",
     "iopub.status.busy": "2021-11-26T14:37:13.648761Z",
     "iopub.status.idle": "2021-11-26T14:37:26.390911Z",
     "shell.execute_reply": "2021-11-26T14:37:26.390029Z",
     "shell.execute_reply.started": "2021-11-26T14:15:04.492230Z"
    },
    "papermill": {
     "duration": 12.79835,
     "end_time": "2021-11-26T14:37:26.391052",
     "exception": false,
     "start_time": "2021-11-26T14:37:13.592702",
     "status": "completed"
    },
    "tags": []
   },
   "outputs": [],
   "source": [
    "X_man = np.zeros((600, 128, 128, 3), dtype=np.float32)\n",
    "y_man = np.zeros((600,1), dtype=np.float32)\n",
    "for i in range(600):\n",
    "    img = image_list[i]\n",
    "    img = img.resize((128,128))\n",
    "    img = np.array(img)\n",
    "    orig_img = img.astype(np.float32)/255.\n",
    "    img = np.expand_dims(img, axis=0)\n",
    "    X_man[i] = orig_img"
   ]
  },
  {
   "cell_type": "code",
   "execution_count": null,
   "id": "6650629a",
   "metadata": {
    "execution": {
     "iopub.execute_input": "2021-11-26T14:37:26.500103Z",
     "iopub.status.busy": "2021-11-26T14:37:26.499313Z",
     "iopub.status.idle": "2021-11-26T14:37:42.343064Z",
     "shell.execute_reply": "2021-11-26T14:37:42.342530Z",
     "shell.execute_reply.started": "2021-11-26T14:15:17.319746Z"
    },
    "papermill": {
     "duration": 15.90098,
     "end_time": "2021-11-26T14:37:42.343214",
     "exception": false,
     "start_time": "2021-11-26T14:37:26.442234",
     "status": "completed"
    },
    "tags": []
   },
   "outputs": [],
   "source": [
    "X_girl = np.zeros((600, 128, 128, 3), dtype=np.float32)\n",
    "y_girl = np.full((600,1), 1)\n",
    "for i in range(600):\n",
    "    img = image_list2[i]\n",
    "    img = img.resize((128,128))\n",
    "    img = np.array(img)\n",
    "    orig_img = img.astype(np.float32)/255.\n",
    "    img = np.expand_dims(img, axis=0)\n",
    "    X_girl[i] = orig_img"
   ]
  },
  {
   "cell_type": "code",
   "execution_count": null,
   "id": "ecd32055",
   "metadata": {
    "execution": {
     "iopub.execute_input": "2021-11-26T14:37:42.447003Z",
     "iopub.status.busy": "2021-11-26T14:37:42.445838Z",
     "iopub.status.idle": "2021-11-26T14:37:42.534375Z",
     "shell.execute_reply": "2021-11-26T14:37:42.533869Z",
     "shell.execute_reply.started": "2021-11-26T14:15:33.040249Z"
    },
    "papermill": {
     "duration": 0.141643,
     "end_time": "2021-11-26T14:37:42.534508",
     "exception": false,
     "start_time": "2021-11-26T14:37:42.392865",
     "status": "completed"
    },
    "tags": []
   },
   "outputs": [],
   "source": [
    "X = np.concatenate((X_man, X_girl), axis=0)\n",
    "y = np.concatenate((y_man, y_girl), axis=0)"
   ]
  },
  {
   "cell_type": "code",
   "execution_count": null,
   "id": "3477da71",
   "metadata": {
    "execution": {
     "iopub.execute_input": "2021-11-26T14:37:42.642554Z",
     "iopub.status.busy": "2021-11-26T14:37:42.640848Z",
     "iopub.status.idle": "2021-11-26T14:37:42.643253Z",
     "shell.execute_reply": "2021-11-26T14:37:42.643678Z",
     "shell.execute_reply.started": "2021-11-26T14:15:33.132804Z"
    },
    "papermill": {
     "duration": 0.058805,
     "end_time": "2021-11-26T14:37:42.643842",
     "exception": false,
     "start_time": "2021-11-26T14:37:42.585037",
     "status": "completed"
    },
    "tags": []
   },
   "outputs": [],
   "source": [
    "F1=  np.zeros((len(X), 128, 128, 3), dtype=np.float32)\n",
    "F2=  np.zeros((len(y), 128, 128, 3), dtype=np.float32)"
   ]
  },
  {
   "cell_type": "code",
   "execution_count": null,
   "id": "2073016e",
   "metadata": {
    "execution": {
     "iopub.execute_input": "2021-11-26T14:37:42.745789Z",
     "iopub.status.busy": "2021-11-26T14:37:42.745297Z",
     "iopub.status.idle": "2021-11-26T14:37:42.820256Z",
     "shell.execute_reply": "2021-11-26T14:37:42.821055Z",
     "shell.execute_reply.started": "2021-11-26T14:15:33.139471Z"
    },
    "papermill": {
     "duration": 0.128084,
     "end_time": "2021-11-26T14:37:42.821217",
     "exception": false,
     "start_time": "2021-11-26T14:37:42.693133",
     "status": "completed"
    },
    "tags": []
   },
   "outputs": [],
   "source": [
    "for i in range(600):\n",
    "    F1[i] = np.flipud(X[i]) "
   ]
  },
  {
   "cell_type": "code",
   "execution_count": null,
   "id": "0f96cd7e",
   "metadata": {
    "execution": {
     "iopub.execute_input": "2021-11-26T14:37:42.925598Z",
     "iopub.status.busy": "2021-11-26T14:37:42.924468Z",
     "iopub.status.idle": "2021-11-26T14:37:43.129423Z",
     "shell.execute_reply": "2021-11-26T14:37:43.128933Z",
     "shell.execute_reply.started": "2021-11-26T14:15:33.220576Z"
    },
    "papermill": {
     "duration": 0.258242,
     "end_time": "2021-11-26T14:37:43.129557",
     "exception": false,
     "start_time": "2021-11-26T14:37:42.871315",
     "status": "completed"
    },
    "tags": []
   },
   "outputs": [],
   "source": [
    "X = np.concatenate((X, F1), axis=0)"
   ]
  },
  {
   "cell_type": "code",
   "execution_count": null,
   "id": "822137f1",
   "metadata": {
    "execution": {
     "iopub.execute_input": "2021-11-26T14:37:43.232350Z",
     "iopub.status.busy": "2021-11-26T14:37:43.231525Z",
     "iopub.status.idle": "2021-11-26T14:37:43.357695Z",
     "shell.execute_reply": "2021-11-26T14:37:43.357225Z",
     "shell.execute_reply.started": "2021-11-26T14:15:33.420863Z"
    },
    "papermill": {
     "duration": 0.179088,
     "end_time": "2021-11-26T14:37:43.357842",
     "exception": false,
     "start_time": "2021-11-26T14:37:43.178754",
     "status": "completed"
    },
    "tags": []
   },
   "outputs": [],
   "source": [
    "for i in range(600):\n",
    "    F2[i] = np.fliplr(X[i]) "
   ]
  },
  {
   "cell_type": "code",
   "execution_count": null,
   "id": "8fc9e92a",
   "metadata": {
    "execution": {
     "iopub.execute_input": "2021-11-26T14:37:43.461075Z",
     "iopub.status.busy": "2021-11-26T14:37:43.459942Z",
     "iopub.status.idle": "2021-11-26T14:37:43.743530Z",
     "shell.execute_reply": "2021-11-26T14:37:43.743981Z",
     "shell.execute_reply.started": "2021-11-26T14:15:33.547872Z"
    },
    "papermill": {
     "duration": 0.3374,
     "end_time": "2021-11-26T14:37:43.744159",
     "exception": false,
     "start_time": "2021-11-26T14:37:43.406759",
     "status": "completed"
    },
    "tags": []
   },
   "outputs": [],
   "source": [
    "X = np.concatenate((X, F2), axis=0)"
   ]
  },
  {
   "cell_type": "code",
   "execution_count": null,
   "id": "43b5a910",
   "metadata": {
    "execution": {
     "iopub.execute_input": "2021-11-26T14:37:43.847558Z",
     "iopub.status.busy": "2021-11-26T14:37:43.846675Z",
     "iopub.status.idle": "2021-11-26T14:37:43.848703Z",
     "shell.execute_reply": "2021-11-26T14:37:43.849171Z",
     "shell.execute_reply.started": "2021-11-26T14:15:33.831268Z"
    },
    "papermill": {
     "duration": 0.055433,
     "end_time": "2021-11-26T14:37:43.849305",
     "exception": false,
     "start_time": "2021-11-26T14:37:43.793872",
     "status": "completed"
    },
    "tags": []
   },
   "outputs": [],
   "source": [
    "y = np.concatenate((y, y,y), axis=0)"
   ]
  },
  {
   "cell_type": "code",
   "execution_count": null,
   "id": "23e6a3f9",
   "metadata": {
    "execution": {
     "iopub.execute_input": "2021-11-26T14:37:43.952084Z",
     "iopub.status.busy": "2021-11-26T14:37:43.951506Z",
     "iopub.status.idle": "2021-11-26T14:37:43.956637Z",
     "shell.execute_reply": "2021-11-26T14:37:43.957081Z",
     "shell.execute_reply.started": "2021-11-26T14:15:33.839389Z"
    },
    "papermill": {
     "duration": 0.059682,
     "end_time": "2021-11-26T14:37:43.957222",
     "exception": false,
     "start_time": "2021-11-26T14:37:43.897540",
     "status": "completed"
    },
    "tags": []
   },
   "outputs": [],
   "source": [
    "X.shape"
   ]
  },
  {
   "cell_type": "code",
   "execution_count": null,
   "id": "14012344",
   "metadata": {
    "execution": {
     "iopub.execute_input": "2021-11-26T14:37:44.061466Z",
     "iopub.status.busy": "2021-11-26T14:37:44.060706Z",
     "iopub.status.idle": "2021-11-26T14:37:44.063513Z",
     "shell.execute_reply": "2021-11-26T14:37:44.063936Z",
     "shell.execute_reply.started": "2021-11-26T14:15:33.848933Z"
    },
    "papermill": {
     "duration": 0.057817,
     "end_time": "2021-11-26T14:37:44.064062",
     "exception": false,
     "start_time": "2021-11-26T14:37:44.006245",
     "status": "completed"
    },
    "tags": []
   },
   "outputs": [],
   "source": [
    "y.shape"
   ]
  },
  {
   "cell_type": "code",
   "execution_count": null,
   "id": "30ca869b",
   "metadata": {
    "execution": {
     "iopub.execute_input": "2021-11-26T14:37:44.199702Z",
     "iopub.status.busy": "2021-11-26T14:37:44.198671Z",
     "iopub.status.idle": "2021-11-26T14:37:44.203162Z",
     "shell.execute_reply": "2021-11-26T14:37:44.202662Z",
     "shell.execute_reply.started": "2021-11-26T14:15:33.857512Z"
    },
    "papermill": {
     "duration": 0.086637,
     "end_time": "2021-11-26T14:37:44.203276",
     "exception": false,
     "start_time": "2021-11-26T14:37:44.116639",
     "status": "completed"
    },
    "tags": []
   },
   "outputs": [],
   "source": [
    "y"
   ]
  },
  {
   "cell_type": "code",
   "execution_count": null,
   "id": "5951ca22",
   "metadata": {
    "execution": {
     "iopub.execute_input": "2021-11-26T14:37:44.307682Z",
     "iopub.status.busy": "2021-11-26T14:37:44.306937Z",
     "iopub.status.idle": "2021-11-26T14:37:44.363339Z",
     "shell.execute_reply": "2021-11-26T14:37:44.363726Z",
     "shell.execute_reply.started": "2021-11-26T14:15:33.869769Z"
    },
    "papermill": {
     "duration": 0.111295,
     "end_time": "2021-11-26T14:37:44.363879",
     "exception": false,
     "start_time": "2021-11-26T14:37:44.252584",
     "status": "completed"
    },
    "tags": []
   },
   "outputs": [],
   "source": [
    "from sklearn.model_selection import train_test_split"
   ]
  },
  {
   "cell_type": "code",
   "execution_count": null,
   "id": "ba533271",
   "metadata": {
    "execution": {
     "iopub.execute_input": "2021-11-26T14:37:44.467412Z",
     "iopub.status.busy": "2021-11-26T14:37:44.466567Z",
     "iopub.status.idle": "2021-11-26T14:37:44.471032Z",
     "shell.execute_reply": "2021-11-26T14:37:44.471409Z",
     "shell.execute_reply.started": "2021-11-26T14:15:33.932352Z"
    },
    "papermill": {
     "duration": 0.058197,
     "end_time": "2021-11-26T14:37:44.471536",
     "exception": false,
     "start_time": "2021-11-26T14:37:44.413339",
     "status": "completed"
    },
    "tags": []
   },
   "outputs": [],
   "source": [
    "from tensorflow.keras.applications import Xception # TensorFlow ONLY\n",
    "import numpy as np\n",
    "import argparse\n",
    "import cv2"
   ]
  },
  {
   "cell_type": "code",
   "execution_count": null,
   "id": "14f14225",
   "metadata": {
    "execution": {
     "iopub.execute_input": "2021-11-26T14:37:44.579316Z",
     "iopub.status.busy": "2021-11-26T14:37:44.578750Z",
     "iopub.status.idle": "2021-11-26T14:37:48.333045Z",
     "shell.execute_reply": "2021-11-26T14:37:48.332512Z",
     "shell.execute_reply.started": "2021-11-26T14:15:33.938519Z"
    },
    "papermill": {
     "duration": 3.811689,
     "end_time": "2021-11-26T14:37:48.333190",
     "exception": false,
     "start_time": "2021-11-26T14:37:44.521501",
     "status": "completed"
    },
    "tags": []
   },
   "outputs": [],
   "source": [
    "#i chouse xception algolithm but the shep i need to resize it to 71*71 that is minimum of this model\n",
    "img_width, img_height = 128, 128\n",
    "\n",
    "Xce_model = Xception(weights = \"imagenet\", include_top=False, input_shape = (img_width, img_height, 3))"
   ]
  },
  {
   "cell_type": "code",
   "execution_count": null,
   "id": "4abd4824",
   "metadata": {
    "execution": {
     "iopub.execute_input": "2021-11-26T14:37:48.484625Z",
     "iopub.status.busy": "2021-11-26T14:37:48.483639Z",
     "iopub.status.idle": "2021-11-26T14:37:48.485660Z",
     "shell.execute_reply": "2021-11-26T14:37:48.486160Z",
     "shell.execute_reply.started": "2021-11-26T14:15:37.985290Z"
    },
    "papermill": {
     "duration": 0.0964,
     "end_time": "2021-11-26T14:37:48.486305",
     "exception": false,
     "start_time": "2021-11-26T14:37:48.389905",
     "status": "completed"
    },
    "tags": []
   },
   "outputs": [],
   "source": [
    "def build_finetune_model_Xce(Xce_model, dropout, fc_layers, num_classes):\n",
    "    # Freeze Parameters for train\n",
    "    for layer in Xce_model.layers:\n",
    "        layer.trainable = False\n",
    "\n",
    "    x = Xce_model.output\n",
    "    x = Flatten()(x)\n",
    "    for fc in fc_layers:\n",
    "        # New FC layer, random init\n",
    "        x = Dense(fc, activation='relu')(x) \n",
    "        x = Dropout(dropout)(x)\n",
    "\n",
    "    # New softmax layer\n",
    "    predictions = Dense(num_classes, activation='softmax')(x) \n",
    "    \n",
    "    finetune_model_Xce = Model(inputs=Xce_model.input, outputs=predictions)\n",
    "\n",
    "    return finetune_model_Xce"
   ]
  },
  {
   "cell_type": "code",
   "execution_count": null,
   "id": "6f9322c3",
   "metadata": {
    "execution": {
     "iopub.execute_input": "2021-11-26T14:37:48.604991Z",
     "iopub.status.busy": "2021-11-26T14:37:48.603992Z",
     "iopub.status.idle": "2021-11-26T14:37:48.643604Z",
     "shell.execute_reply": "2021-11-26T14:37:48.642950Z",
     "shell.execute_reply.started": "2021-11-26T14:15:37.997120Z"
    },
    "papermill": {
     "duration": 0.102076,
     "end_time": "2021-11-26T14:37:48.643723",
     "exception": false,
     "start_time": "2021-11-26T14:37:48.541647",
     "status": "completed"
    },
    "tags": []
   },
   "outputs": [],
   "source": [
    "FC_LAYERS = [1024, 1024]\n",
    "dropout = 0.5\n",
    "\n",
    "finetune_model_Xce = build_finetune_model_Xce(Xce_model, \n",
    "                                      dropout=dropout, \n",
    "                                      fc_layers=FC_LAYERS, \n",
    "                                      num_classes=2)"
   ]
  },
  {
   "cell_type": "code",
   "execution_count": null,
   "id": "f66f0e0d",
   "metadata": {
    "execution": {
     "iopub.execute_input": "2021-11-26T14:37:48.761453Z",
     "iopub.status.busy": "2021-11-26T14:37:48.756280Z",
     "iopub.status.idle": "2021-11-26T14:37:48.824600Z",
     "shell.execute_reply": "2021-11-26T14:37:48.825088Z",
     "shell.execute_reply.started": "2021-11-26T14:15:38.073338Z"
    },
    "papermill": {
     "duration": 0.128312,
     "end_time": "2021-11-26T14:37:48.825230",
     "exception": false,
     "start_time": "2021-11-26T14:37:48.696918",
     "status": "completed"
    },
    "tags": []
   },
   "outputs": [],
   "source": [
    "print(finetune_model_Xce.summary())"
   ]
  },
  {
   "cell_type": "code",
   "execution_count": null,
   "id": "60f131b3",
   "metadata": {
    "execution": {
     "iopub.execute_input": "2021-11-26T14:37:48.942160Z",
     "iopub.status.busy": "2021-11-26T14:37:48.941564Z",
     "iopub.status.idle": "2021-11-26T14:37:48.956368Z",
     "shell.execute_reply": "2021-11-26T14:37:48.956790Z",
     "shell.execute_reply.started": "2021-11-26T14:15:38.152601Z"
    },
    "papermill": {
     "duration": 0.076714,
     "end_time": "2021-11-26T14:37:48.956958",
     "exception": false,
     "start_time": "2021-11-26T14:37:48.880244",
     "status": "completed"
    },
    "tags": []
   },
   "outputs": [],
   "source": [
    "from tensorflow.keras.optimizers import SGD\n",
    "# Compile the model\n",
    "epochs = 30\n",
    "lrate = 0.001\n",
    "decay = lrate/epochs\n",
    "sgd = SGD(lr=lrate, momentum=0.9, decay=decay, nesterov=False)\n",
    "finetune_model_Xce.compile(loss='categorical_crossentropy',\n",
    "                  optimizer=sgd,\n",
    "                  metrics=['accuracy'])"
   ]
  },
  {
   "cell_type": "code",
   "execution_count": null,
   "id": "54ca119b",
   "metadata": {
    "execution": {
     "iopub.execute_input": "2021-11-26T14:37:49.075327Z",
     "iopub.status.busy": "2021-11-26T14:37:49.074767Z",
     "iopub.status.idle": "2021-11-26T14:37:49.282971Z",
     "shell.execute_reply": "2021-11-26T14:37:49.282091Z",
     "shell.execute_reply.started": "2021-11-26T14:15:38.184029Z"
    },
    "papermill": {
     "duration": 0.271487,
     "end_time": "2021-11-26T14:37:49.283112",
     "exception": false,
     "start_time": "2021-11-26T14:37:49.011625",
     "status": "completed"
    },
    "tags": []
   },
   "outputs": [],
   "source": [
    "X_train, X_test, y_train, y_test = train_test_split(\n",
    "    X, y, test_size=0.1, random_state=42)"
   ]
  },
  {
   "cell_type": "code",
   "execution_count": null,
   "id": "f049f574",
   "metadata": {
    "execution": {
     "iopub.execute_input": "2021-11-26T14:37:49.397954Z",
     "iopub.status.busy": "2021-11-26T14:37:49.397065Z",
     "iopub.status.idle": "2021-11-26T14:37:49.399043Z",
     "shell.execute_reply": "2021-11-26T14:37:49.399496Z",
     "shell.execute_reply.started": "2021-11-26T14:15:38.407955Z"
    },
    "papermill": {
     "duration": 0.06093,
     "end_time": "2021-11-26T14:37:49.399627",
     "exception": false,
     "start_time": "2021-11-26T14:37:49.338697",
     "status": "completed"
    },
    "tags": []
   },
   "outputs": [],
   "source": [
    "from sklearn.preprocessing import OneHotEncoder"
   ]
  },
  {
   "cell_type": "code",
   "execution_count": null,
   "id": "6f1c1afe",
   "metadata": {
    "execution": {
     "iopub.execute_input": "2021-11-26T14:37:49.512466Z",
     "iopub.status.busy": "2021-11-26T14:37:49.510333Z",
     "iopub.status.idle": "2021-11-26T14:37:49.515001Z",
     "shell.execute_reply": "2021-11-26T14:37:49.514559Z",
     "shell.execute_reply.started": "2021-11-26T14:15:38.418025Z"
    },
    "papermill": {
     "duration": 0.061337,
     "end_time": "2021-11-26T14:37:49.515116",
     "exception": false,
     "start_time": "2021-11-26T14:37:49.453779",
     "status": "completed"
    },
    "tags": []
   },
   "outputs": [],
   "source": [
    "y_train = to_categorical(y_train, num_classes=2)\n",
    "y_test = to_categorical(y_test, num_classes=2)"
   ]
  },
  {
   "cell_type": "code",
   "execution_count": null,
   "id": "2c1d3594",
   "metadata": {
    "execution": {
     "iopub.execute_input": "2021-11-26T14:37:49.629671Z",
     "iopub.status.busy": "2021-11-26T14:37:49.628974Z",
     "iopub.status.idle": "2021-11-26T14:37:49.631488Z",
     "shell.execute_reply": "2021-11-26T14:37:49.631921Z",
     "shell.execute_reply.started": "2021-11-26T14:15:38.430869Z"
    },
    "papermill": {
     "duration": 0.062347,
     "end_time": "2021-11-26T14:37:49.632054",
     "exception": false,
     "start_time": "2021-11-26T14:37:49.569707",
     "status": "completed"
    },
    "tags": []
   },
   "outputs": [],
   "source": [
    "y_train.shape"
   ]
  },
  {
   "cell_type": "code",
   "execution_count": null,
   "id": "a1898c42",
   "metadata": {
    "execution": {
     "iopub.execute_input": "2021-11-26T14:37:49.746613Z",
     "iopub.status.busy": "2021-11-26T14:37:49.745967Z",
     "iopub.status.idle": "2021-11-26T14:37:49.748600Z",
     "shell.execute_reply": "2021-11-26T14:37:49.749095Z",
     "shell.execute_reply.started": "2021-11-26T14:15:38.439381Z"
    },
    "papermill": {
     "duration": 0.062897,
     "end_time": "2021-11-26T14:37:49.749243",
     "exception": false,
     "start_time": "2021-11-26T14:37:49.686346",
     "status": "completed"
    },
    "tags": []
   },
   "outputs": [],
   "source": [
    "y.shape"
   ]
  },
  {
   "cell_type": "code",
   "execution_count": null,
   "id": "21562b32",
   "metadata": {
    "execution": {
     "iopub.execute_input": "2021-11-26T14:37:49.865124Z",
     "iopub.status.busy": "2021-11-26T14:37:49.864233Z",
     "iopub.status.idle": "2021-11-26T14:39:01.545154Z",
     "shell.execute_reply": "2021-11-26T14:39:01.544645Z",
     "shell.execute_reply.started": "2021-11-26T14:15:38.453389Z"
    },
    "papermill": {
     "duration": 71.741276,
     "end_time": "2021-11-26T14:39:01.545301",
     "exception": false,
     "start_time": "2021-11-26T14:37:49.804025",
     "status": "completed"
    },
    "tags": []
   },
   "outputs": [],
   "source": [
    "# Train the model\n",
    "finetune_model_Xce.fit(X_train, y_train,\n",
    "              batch_size=512,\n",
    "              shuffle=True,\n",
    "              epochs=epochs,\n",
    "              validation_data=(X_test, y_test),\n",
    "              callbacks=[EarlyStopping(min_delta=0.001, patience=3)])"
   ]
  },
  {
   "cell_type": "code",
   "execution_count": null,
   "id": "a093ba16",
   "metadata": {
    "execution": {
     "iopub.execute_input": "2021-11-26T14:39:01.765737Z",
     "iopub.status.busy": "2021-11-26T14:39:01.765013Z",
     "iopub.status.idle": "2021-11-26T14:39:17.686918Z",
     "shell.execute_reply": "2021-11-26T14:39:17.686397Z",
     "shell.execute_reply.started": "2021-11-26T14:16:59.729938Z"
    },
    "papermill": {
     "duration": 16.036727,
     "end_time": "2021-11-26T14:39:17.687063",
     "exception": false,
     "start_time": "2021-11-26T14:39:01.650336",
     "status": "completed"
    },
    "tags": []
   },
   "outputs": [],
   "source": [
    "import seaborn as sns\n",
    "from sklearn.metrics import confusion_matrix\n",
    "from sklearn.metrics import accuracy_score\n",
    "# Predict the values from the validation dataset\n",
    "Y_pred = finetune_model_Xce.predict(X_test)\n",
    "\n",
    "\n",
    "# Convert predictions classes to one hot vectors \n",
    "Y_pred_classes = np.argmax(Y_pred,axis = 1) \n",
    "# Convert validation observations to one hot vectors\n",
    "print(Y_pred_classes)\n",
    "Y_true = np.argmax(y_test,axis = 1)\n",
    "print(Y_true)\n",
    "# compute the confusion matrix\n",
    "confusion_mtx = confusion_matrix(Y_true, Y_pred_classes) \n",
    "# plot the confusion matrix\n",
    "f,ax = plt.subplots(figsize=(8, 8))\n",
    "sns.heatmap(confusion_mtx, annot=True, linewidths=0.01,cmap=\"Greens\",linecolor=\"gray\", fmt= '.1f',ax=ax)\n",
    "plt.xlabel(\"Predicted Label\")\n",
    "plt.ylabel(\"True Label\")\n",
    "plt.title(\"Confusion Matrix\")\n",
    "plt.show()\n",
    "print(accuracy_score(Y_true, Y_pred_classes))"
   ]
  },
  {
   "cell_type": "code",
   "execution_count": null,
   "id": "c85baf8f",
   "metadata": {
    "execution": {
     "iopub.execute_input": "2021-11-26T14:39:17.913988Z",
     "iopub.status.busy": "2021-11-26T14:39:17.913426Z",
     "iopub.status.idle": "2021-11-26T14:39:18.019152Z",
     "shell.execute_reply": "2021-11-26T14:39:18.018612Z",
     "shell.execute_reply.started": "2021-11-26T14:18:43.293605Z"
    },
    "papermill": {
     "duration": 0.224046,
     "end_time": "2021-11-26T14:39:18.019286",
     "exception": false,
     "start_time": "2021-11-26T14:39:17.795240",
     "status": "completed"
    },
    "tags": []
   },
   "outputs": [],
   "source": [
    "image_list3 = []\n",
    "for filename in glob.glob('../input/boizer/boytest/*jpg'): #assuming gif\n",
    "    im3=Image.open(filename)\n",
    "    image_list3.append(im3)"
   ]
  },
  {
   "cell_type": "code",
   "execution_count": null,
   "id": "3e8389b2",
   "metadata": {
    "execution": {
     "iopub.execute_input": "2021-11-26T14:34:28.165339Z",
     "iopub.status.busy": "2021-11-26T14:34:28.164934Z",
     "iopub.status.idle": "2021-11-26T14:34:28.505001Z",
     "shell.execute_reply": "2021-11-26T14:34:28.504277Z",
     "shell.execute_reply.started": "2021-11-26T14:34:28.165296Z"
    },
    "papermill": {
     "duration": 0.108039,
     "end_time": "2021-11-26T14:39:18.242101",
     "exception": false,
     "start_time": "2021-11-26T14:39:18.134062",
     "status": "completed"
    },
    "tags": []
   },
   "outputs": [],
   "source": []
  },
  {
   "cell_type": "code",
   "execution_count": null,
   "id": "2f197114",
   "metadata": {
    "execution": {
     "iopub.execute_input": "2021-11-26T14:39:18.461972Z",
     "iopub.status.busy": "2021-11-26T14:39:18.461218Z",
     "iopub.status.idle": "2021-11-26T14:39:18.665576Z",
     "shell.execute_reply": "2021-11-26T14:39:18.666033Z",
     "shell.execute_reply.started": "2021-11-26T14:35:08.289849Z"
    },
    "papermill": {
     "duration": 0.317232,
     "end_time": "2021-11-26T14:39:18.666199",
     "exception": false,
     "start_time": "2021-11-26T14:39:18.348967",
     "status": "completed"
    },
    "tags": []
   },
   "outputs": [],
   "source": [
    "Image.fromarray(np.uint8(image_list3[0]))"
   ]
  },
  {
   "cell_type": "code",
   "execution_count": null,
   "id": "52f467e8",
   "metadata": {
    "execution": {
     "iopub.execute_input": "2021-11-26T14:39:18.909129Z",
     "iopub.status.busy": "2021-11-26T14:39:18.908335Z",
     "iopub.status.idle": "2021-11-26T14:39:20.200891Z",
     "shell.execute_reply": "2021-11-26T14:39:20.140676Z"
    },
    "papermill": {
     "duration": 1.417376,
     "end_time": "2021-11-26T14:39:20.201045",
     "exception": false,
     "start_time": "2021-11-26T14:39:18.783669",
     "status": "completed"
    },
    "tags": []
   },
   "outputs": [],
   "source": [
    "Image.fromarray(np.uint8(image_list3[1]))"
   ]
  },
  {
   "cell_type": "code",
   "execution_count": null,
   "id": "a75dba57",
   "metadata": {
    "execution": {
     "iopub.execute_input": "2021-11-26T14:39:20.599959Z",
     "iopub.status.busy": "2021-11-26T14:39:20.599187Z",
     "iopub.status.idle": "2021-11-26T14:39:21.407239Z",
     "shell.execute_reply": "2021-11-26T14:39:21.407917Z"
    },
    "papermill": {
     "duration": 1.010457,
     "end_time": "2021-11-26T14:39:21.408104",
     "exception": false,
     "start_time": "2021-11-26T14:39:20.397647",
     "status": "completed"
    },
    "tags": []
   },
   "outputs": [],
   "source": [
    "Image.fromarray(np.uint8(image_list3[2]))"
   ]
  },
  {
   "cell_type": "code",
   "execution_count": null,
   "id": "dab176af",
   "metadata": {
    "execution": {
     "iopub.execute_input": "2021-11-26T14:39:21.890672Z",
     "iopub.status.busy": "2021-11-26T14:39:21.889868Z",
     "iopub.status.idle": "2021-11-26T14:39:22.266142Z",
     "shell.execute_reply": "2021-11-26T14:39:22.266570Z"
    },
    "papermill": {
     "duration": 0.623005,
     "end_time": "2021-11-26T14:39:22.266722",
     "exception": false,
     "start_time": "2021-11-26T14:39:21.643717",
     "status": "completed"
    },
    "tags": []
   },
   "outputs": [],
   "source": [
    "Image.fromarray(np.uint8(image_list3[3]))"
   ]
  },
  {
   "cell_type": "code",
   "execution_count": null,
   "id": "20e47c31",
   "metadata": {
    "execution": {
     "iopub.execute_input": "2021-11-26T14:39:22.795037Z",
     "iopub.status.busy": "2021-11-26T14:39:22.794233Z",
     "iopub.status.idle": "2021-11-26T14:39:23.790464Z",
     "shell.execute_reply": "2021-11-26T14:39:23.790917Z"
    },
    "papermill": {
     "duration": 1.265386,
     "end_time": "2021-11-26T14:39:23.791070",
     "exception": false,
     "start_time": "2021-11-26T14:39:22.525684",
     "status": "completed"
    },
    "tags": []
   },
   "outputs": [],
   "source": [
    "Image.fromarray(np.uint8(image_list3[4]))"
   ]
  },
  {
   "cell_type": "code",
   "execution_count": null,
   "id": "fb79ca4e",
   "metadata": {
    "execution": {
     "iopub.execute_input": "2021-11-26T14:39:24.402892Z",
     "iopub.status.busy": "2021-11-26T14:39:24.402107Z",
     "iopub.status.idle": "2021-11-26T14:39:24.586076Z",
     "shell.execute_reply": "2021-11-26T14:39:24.586496Z"
    },
    "papermill": {
     "duration": 0.491482,
     "end_time": "2021-11-26T14:39:24.586643",
     "exception": false,
     "start_time": "2021-11-26T14:39:24.095161",
     "status": "completed"
    },
    "tags": []
   },
   "outputs": [],
   "source": [
    "Image.fromarray(np.uint8(image_list3[5]))"
   ]
  },
  {
   "cell_type": "code",
   "execution_count": null,
   "id": "725e37aa",
   "metadata": {
    "execution": {
     "iopub.execute_input": "2021-11-26T14:39:25.202964Z",
     "iopub.status.busy": "2021-11-26T14:39:25.202166Z",
     "iopub.status.idle": "2021-11-26T14:39:25.216926Z",
     "shell.execute_reply": "2021-11-26T14:39:25.216448Z",
     "shell.execute_reply.started": "2021-11-26T14:19:56.671991Z"
    },
    "papermill": {
     "duration": 0.326854,
     "end_time": "2021-11-26T14:39:25.217054",
     "exception": false,
     "start_time": "2021-11-26T14:39:24.890200",
     "status": "completed"
    },
    "tags": []
   },
   "outputs": [],
   "source": [
    "X_pre = np.zeros((6, 128, 128, 3), dtype=np.float32)\n",
    "for i in range(6):\n",
    "    img = image_list[i]\n",
    "    img = img.resize((128,128))\n",
    "    img = np.array(img)\n",
    "    orig_img = img.astype(np.float32)/255.\n",
    "    img = np.expand_dims(img, axis=0)\n",
    "    X_pre[i] = orig_img"
   ]
  },
  {
   "cell_type": "code",
   "execution_count": null,
   "id": "fc7147f2",
   "metadata": {
    "execution": {
     "iopub.execute_input": "2021-11-26T14:39:25.836553Z",
     "iopub.status.busy": "2021-11-26T14:39:25.835636Z",
     "iopub.status.idle": "2021-11-26T14:39:25.985326Z",
     "shell.execute_reply": "2021-11-26T14:39:25.986054Z",
     "shell.execute_reply.started": "2021-11-26T14:20:50.724306Z"
    },
    "papermill": {
     "duration": 0.465879,
     "end_time": "2021-11-26T14:39:25.986278",
     "exception": false,
     "start_time": "2021-11-26T14:39:25.520399",
     "status": "completed"
    },
    "tags": []
   },
   "outputs": [],
   "source": [
    "Y_pred = finetune_model_Xce.predict(X_pre)\n",
    "\n",
    "\n",
    "# Convert predictions classes to one hot vectors \n",
    "Y_pred_classes = np.argmax(Y_pred,axis = 1) \n",
    "# Convert validation observations to one hot vectors\n",
    "print(Y_pred_classes)"
   ]
  }
 ],
 "metadata": {
  "kernelspec": {
   "display_name": "Python 3 (ipykernel)",
   "language": "python",
   "name": "python3"
  },
  "language_info": {
   "codemirror_mode": {
    "name": "ipython",
    "version": 3
   },
   "file_extension": ".py",
   "mimetype": "text/x-python",
   "name": "python",
   "nbconvert_exporter": "python",
   "pygments_lexer": "ipython3",
   "version": "3.10.3"
  },
  "papermill": {
   "default_parameters": {},
   "duration": 164.681856,
   "end_time": "2021-11-26T14:39:29.499125",
   "environment_variables": {},
   "exception": null,
   "input_path": "__notebook__.ipynb",
   "output_path": "__notebook__.ipynb",
   "parameters": {},
   "start_time": "2021-11-26T14:36:44.817269",
   "version": "2.3.3"
  }
 },
 "nbformat": 4,
 "nbformat_minor": 5
}
